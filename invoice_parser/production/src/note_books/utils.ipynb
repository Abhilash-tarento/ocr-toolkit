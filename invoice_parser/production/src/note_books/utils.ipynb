{
 "cells": [
  {
   "cell_type": "code",
   "execution_count": 9,
   "metadata": {},
   "outputs": [],
   "source": [
    "import pytesseract\n",
    "from pytesseract import Output\n",
    "import pdf2image\n",
    "import cv2\n",
    "import os\n",
    "import matplotlib.pyplot as plt\n",
    "import glob"
   ]
  },
  {
   "cell_type": "code",
   "execution_count": 10,
   "metadata": {},
   "outputs": [],
   "source": [
    "#pdf_path = '/home/dhiraj/Documents/mestro-invoices/eval/Skellefteå Kraft/faktura-30156795319.pdf'\n",
    "#working_dir = '/home/dhiraj/Documents/mestro-invoices/eval/Skellefteå Kraft/images'\n",
    "\n",
    "\n",
    "pdf_dir = '/home/dhiraj/ocr/Mestro/data/set_3'\n",
    "working_dir = '/home/dhiraj/ocr/Mestro/data/set_3_images' \n",
    "\n",
    "dpi = 300\n"
   ]
  },
  {
   "cell_type": "code",
   "execution_count": 12,
   "metadata": {},
   "outputs": [],
   "source": [
    "import xml.etree.ElementTree as ET\n",
    "\n",
    "classes =  ['m','h','fm1','fm2','fm3','fd','t','ms']\n",
    "\n",
    "def convert(size, box):\n",
    "    dw = 1./(size[0])\n",
    "    dh = 1./(size[1])\n",
    "    x = (box[0] + box[1])/2.0 - 1\n",
    "    y = (box[2] + box[3])/2.0 - 1\n",
    "    w = box[1] - box[0]\n",
    "    h = box[3] - box[2]\n",
    "    x = x*dw\n",
    "    w = w*dw\n",
    "    y = y*dh\n",
    "    h = h*dh\n",
    "    return (x,y,w,h)\n",
    "\n",
    "def convert_annotation(output_path, in_file):\n",
    "    basename = os.path.basename(in_file)\n",
    "    basename_no_ext = os.path.splitext(basename)[0]\n",
    "\n",
    "    with open(output_path + basename_no_ext + '.txt', \"w\") as out_file :\n",
    "        tree = ET.parse(in_file)\n",
    "        root = tree.getroot()\n",
    "        size = root.find('size')\n",
    "        w = int(size.find('width').text)\n",
    "        h = int(size.find('height').text)\n",
    "\n",
    "        for obj in root.iter('object'):\n",
    "            difficult = obj.find('difficult').text\n",
    "            cls = obj.find('name').text\n",
    "            if cls not in classes or int(difficult)==1:\n",
    "                continue\n",
    "            cls_id = classes.index(cls)\n",
    "            xmlbox = obj.find('bndbox')\n",
    "            b = (float(xmlbox.find('xmin').text), float(xmlbox.find('xmax').text), float(xmlbox.find('ymin').text), float(xmlbox.find('ymax').text))\n",
    "            bb = convert((w,h), b)\n",
    "            out_file.write(str(cls_id) + \" \" + \" \".join([str(a) for a in bb]) + '\\n')\n",
    "\n",
    "\n",
    "from shutil import copy\n",
    "\n",
    "def copy_im(output_path,im_dir, in_file):\n",
    "    basename = os.path.basename(in_file)\n",
    "    basename_no_ext = os.path.splitext(basename)[0]\n",
    "\n",
    "    copy(im_dir + basename_no_ext +'.jpg' , output_path)\n"
   ]
  },
  {
   "cell_type": "code",
   "execution_count": 14,
   "metadata": {},
   "outputs": [],
   "source": [
    "# ann_dir = '/home/dhiraj/ocr/Mestro/data/annotaions/20/mixed_annotaions/mixed_annotaions'\n",
    "# outpu_dir = '/home/dhiraj/ocr/Mestro/data/annotaions/20/mixed_annotaions/yolo_annotaions/'\n",
    "\n",
    "# for ann in glob.glob(ann_dir + '/*.xml'):\n",
    "#     convert_annotation(outpu_dir,ann)\n",
    "\n",
    "\n"
   ]
  },
  {
   "cell_type": "code",
   "execution_count": 15,
   "metadata": {},
   "outputs": [],
   "source": [
    "# copy im \n",
    "\n"
   ]
  },
  {
   "cell_type": "code",
   "execution_count": 12,
   "metadata": {},
   "outputs": [],
   "source": [
    "#http://meity-dev.anuvaad.org/aai4b-nmt-inference/v1.1/translate\n",
    "\n",
    "#ulca env"
   ]
  },
  {
   "cell_type": "markdown",
   "metadata": {},
   "source": [
    "# Extract images"
   ]
  },
  {
   "cell_type": "code",
   "execution_count": 11,
   "metadata": {},
   "outputs": [
    {
     "name": "stdout",
     "output_type": "stream",
     "text": [
      "/home/dhiraj/ocr/Mestro/data/set_3/faktura-30156425016.pdf faktura-30156425016\n",
      "/home/dhiraj/ocr/Mestro/data/set_3/faktura-30172828615.pdf faktura-30172828615\n",
      "/home/dhiraj/ocr/Mestro/data/set_3/faktura-30157046514.pdf faktura-30157046514\n",
      "/home/dhiraj/ocr/Mestro/data/set_3/faktura-30156642115.pdf faktura-30156642115\n",
      "/home/dhiraj/ocr/Mestro/data/set_3/faktura-30138446411.pdf faktura-30138446411\n",
      "/home/dhiraj/ocr/Mestro/data/set_3/faktura-30138152712.pdf faktura-30138152712\n",
      "/home/dhiraj/ocr/Mestro/data/set_3/faktura-30137567217.pdf faktura-30137567217\n",
      "/home/dhiraj/ocr/Mestro/data/set_3/faktura-30156102417.pdf faktura-30156102417\n",
      "/home/dhiraj/ocr/Mestro/data/set_3/faktura-30154065715.pdf faktura-30154065715\n",
      "/home/dhiraj/ocr/Mestro/data/set_3/faktura-30137570112.pdf faktura-30137570112\n",
      "/home/dhiraj/ocr/Mestro/data/set_3/faktura-30137569114.pdf faktura-30137569114\n",
      "/home/dhiraj/ocr/Mestro/data/set_3/faktura-30138282618.pdf faktura-30138282618\n",
      "/home/dhiraj/ocr/Mestro/data/set_3/faktura-30154503012.pdf faktura-30154503012\n",
      "/home/dhiraj/ocr/Mestro/data/set_3/faktura-30154488214.pdf faktura-30154488214\n",
      "/home/dhiraj/ocr/Mestro/data/set_3/faktura-30172826411.pdf faktura-30172826411\n",
      "/home/dhiraj/ocr/Mestro/data/set_3/faktura-30138535411.pdf faktura-30138535411\n",
      "/home/dhiraj/ocr/Mestro/data/set_3/faktura-30138500415.pdf faktura-30138500415\n",
      "/home/dhiraj/ocr/Mestro/data/set_3/faktura-30172823913.pdf faktura-30172823913\n",
      "/home/dhiraj/ocr/Mestro/data/set_3/faktura-30172604917.pdf faktura-30172604917\n",
      "/home/dhiraj/ocr/Mestro/data/set_3/faktura-30155905117.pdf faktura-30155905117\n",
      "/home/dhiraj/ocr/Mestro/data/set_3/faktura-30156474113.pdf faktura-30156474113\n",
      "/home/dhiraj/ocr/Mestro/data/set_3/faktura-30156564319.pdf faktura-30156564319\n",
      "/home/dhiraj/ocr/Mestro/data/set_3/faktura-30156425016 (1).pdf faktura-30156425016 (1)\n",
      "/home/dhiraj/ocr/Mestro/data/set_3/faktura-30138176216.pdf faktura-30138176216\n",
      "/home/dhiraj/ocr/Mestro/data/set_3/faktura-30156087618.pdf faktura-30156087618\n",
      "/home/dhiraj/ocr/Mestro/data/set_3/faktura-30137807316.pdf faktura-30137807316\n",
      "/home/dhiraj/ocr/Mestro/data/set_3/faktura-30153539116.pdf faktura-30153539116\n",
      "/home/dhiraj/ocr/Mestro/data/set_3/faktura-30157046118.pdf faktura-30157046118\n",
      "/home/dhiraj/ocr/Mestro/data/set_3/faktura-30156710110.pdf faktura-30156710110\n",
      "/home/dhiraj/ocr/Mestro/data/set_3/faktura-30137715816.pdf faktura-30137715816\n",
      "/home/dhiraj/ocr/Mestro/data/set_3/faktura-30138642019.pdf faktura-30138642019\n",
      "/home/dhiraj/ocr/Mestro/data/set_3/faktura-30156741818.pdf faktura-30156741818\n",
      "/home/dhiraj/ocr/Mestro/data/set_3/faktura-30137703416.pdf faktura-30137703416\n",
      "/home/dhiraj/ocr/Mestro/data/set_3/faktura-30156101013.pdf faktura-30156101013\n",
      "/home/dhiraj/ocr/Mestro/data/set_3/faktura-30138231813.pdf faktura-30138231813\n",
      "/home/dhiraj/ocr/Mestro/data/set_3/faktura-30156031913.pdf faktura-30156031913\n",
      "/home/dhiraj/ocr/Mestro/data/set_3/faktura-30138143315.pdf faktura-30138143315\n",
      "/home/dhiraj/ocr/Mestro/data/set_3/faktura-30156401918.pdf faktura-30156401918\n",
      "/home/dhiraj/ocr/Mestro/data/set_3/faktura-30156785013.pdf faktura-30156785013\n",
      "/home/dhiraj/ocr/Mestro/data/set_3/faktura-30156764216.pdf faktura-30156764216\n",
      "/home/dhiraj/ocr/Mestro/data/set_3/faktura-30138465411.pdf faktura-30138465411\n",
      "/home/dhiraj/ocr/Mestro/data/set_3/faktura-30153541815.pdf faktura-30153541815\n",
      "/home/dhiraj/ocr/Mestro/data/set_3/faktura-30156727312.pdf faktura-30156727312\n",
      "/home/dhiraj/ocr/Mestro/data/set_3/faktura-30155905315.pdf faktura-30155905315\n",
      "/home/dhiraj/ocr/Mestro/data/set_3/faktura-30137566615.pdf faktura-30137566615\n",
      "/home/dhiraj/ocr/Mestro/data/set_3/faktura-30138757619.pdf faktura-30138757619\n",
      "/home/dhiraj/ocr/Mestro/data/set_3/faktura-30153300113 (1).pdf faktura-30153300113 (1)\n",
      "/home/dhiraj/ocr/Mestro/data/set_3/faktura-30138374415.pdf faktura-30138374415\n",
      "/home/dhiraj/ocr/Mestro/data/set_3/faktura-30138509010.pdf faktura-30138509010\n",
      "/home/dhiraj/ocr/Mestro/data/set_3/faktura-30156232719.pdf faktura-30156232719\n",
      "/home/dhiraj/ocr/Mestro/data/set_3/faktura-30154479619.pdf faktura-30154479619\n",
      "/home/dhiraj/ocr/Mestro/data/set_3/faktura-30173326114.pdf faktura-30173326114\n",
      "/home/dhiraj/ocr/Mestro/data/set_3/faktura-30137702210.pdf faktura-30137702210\n",
      "/home/dhiraj/ocr/Mestro/data/set_3/faktura-30154065913.pdf faktura-30154065913\n",
      "/home/dhiraj/ocr/Mestro/data/set_3/faktura-30138644510.pdf faktura-30138644510\n",
      "/home/dhiraj/ocr/Mestro/data/set_3/faktura-30138449910.pdf faktura-30138449910\n",
      "/home/dhiraj/ocr/Mestro/data/set_3/faktura-30156588714.pdf faktura-30156588714\n",
      "/home/dhiraj/ocr/Mestro/data/set_3/faktura-30137568116.pdf faktura-30137568116\n",
      "/home/dhiraj/ocr/Mestro/data/set_3/faktura-30172611011.pdf faktura-30172611011\n",
      "/home/dhiraj/ocr/Mestro/data/set_3/faktura-30156583517.pdf faktura-30156583517\n",
      "/home/dhiraj/ocr/Mestro/data/set_3/faktura-30156729516.pdf faktura-30156729516\n",
      "/home/dhiraj/ocr/Mestro/data/set_3/faktura-30156673615.pdf faktura-30156673615\n",
      "/home/dhiraj/ocr/Mestro/data/set_3/faktura-30156753219.pdf faktura-30156753219\n",
      "/home/dhiraj/ocr/Mestro/data/set_3/faktura-30138250516.pdf faktura-30138250516\n",
      "/home/dhiraj/ocr/Mestro/data/set_3/faktura-30173311611.pdf faktura-30173311611\n",
      "/home/dhiraj/ocr/Mestro/data/set_3/faktura-30156101815.pdf faktura-30156101815\n",
      "/home/dhiraj/ocr/Mestro/data/set_3/faktura-30156711217.pdf faktura-30156711217\n",
      "/home/dhiraj/ocr/Mestro/data/set_3/faktura-30156314012.pdf faktura-30156314012\n",
      "/home/dhiraj/ocr/Mestro/data/set_3/faktura-30138513319.pdf faktura-30138513319\n",
      "/home/dhiraj/ocr/Mestro/data/set_3/faktura-30156437912.pdf faktura-30156437912\n",
      "/home/dhiraj/ocr/Mestro/data/set_3/faktura-30156396316.pdf faktura-30156396316\n",
      "/home/dhiraj/ocr/Mestro/data/set_3/faktura-78014963017 (1).pdf faktura-78014963017 (1)\n",
      "/home/dhiraj/ocr/Mestro/data/set_3/faktura-30138522112.pdf faktura-30138522112\n",
      "/home/dhiraj/ocr/Mestro/data/set_3/faktura-30156566710.pdf faktura-30156566710\n",
      "/home/dhiraj/ocr/Mestro/data/set_3/faktura-30173326619.pdf faktura-30173326619\n",
      "/home/dhiraj/ocr/Mestro/data/set_3/faktura-30138304610.pdf faktura-30138304610\n",
      "/home/dhiraj/ocr/Mestro/data/set_3/faktura-30138568818.pdf faktura-30138568818\n",
      "/home/dhiraj/ocr/Mestro/data/set_3/faktura-30138129611.pdf faktura-30138129611\n",
      "/home/dhiraj/ocr/Mestro/data/set_3/faktura-30138448516.pdf faktura-30138448516\n",
      "/home/dhiraj/ocr/Mestro/data/set_3/faktura-30138540817.pdf faktura-30138540817\n",
      "/home/dhiraj/ocr/Mestro/data/set_3/faktura-30156685312.pdf faktura-30156685312\n",
      "/home/dhiraj/ocr/Mestro/data/set_3/faktura-30153553711.pdf faktura-30153553711\n",
      "/home/dhiraj/ocr/Mestro/data/set_3/faktura-30138053316.pdf faktura-30138053316\n",
      "/home/dhiraj/ocr/Mestro/data/set_3/faktura-30173310019.pdf faktura-30173310019\n",
      "/home/dhiraj/ocr/Mestro/data/set_3/faktura-30137714314.pdf faktura-30137714314\n",
      "/home/dhiraj/ocr/Mestro/data/set_3/faktura-30138551418.pdf faktura-30138551418\n",
      "/home/dhiraj/ocr/Mestro/data/set_3/faktura-30138478711.pdf faktura-30138478711\n",
      "/home/dhiraj/ocr/Mestro/data/set_3/faktura-30156795319.pdf faktura-30156795319\n",
      "/home/dhiraj/ocr/Mestro/data/set_3/faktura-30138757312.pdf faktura-30138757312\n",
      "/home/dhiraj/ocr/Mestro/data/set_3/faktura-30135089511.pdf faktura-30135089511\n",
      "/home/dhiraj/ocr/Mestro/data/set_3/faktura-30156680818.pdf faktura-30156680818\n",
      "/home/dhiraj/ocr/Mestro/data/set_3/faktura-30156099712.pdf faktura-30156099712\n",
      "/home/dhiraj/ocr/Mestro/data/set_3/faktura-30156700517.pdf faktura-30156700517\n",
      "/home/dhiraj/ocr/Mestro/data/set_3/faktura-30138311417.pdf faktura-30138311417\n",
      "/home/dhiraj/ocr/Mestro/data/set_3/faktura-78015295815.pdf faktura-78015295815\n",
      "/home/dhiraj/ocr/Mestro/data/set_3/faktura-30138444812.pdf faktura-30138444812\n",
      "/home/dhiraj/ocr/Mestro/data/set_3/faktura-78014963017.pdf faktura-78014963017\n",
      "/home/dhiraj/ocr/Mestro/data/set_3/faktura-30153558215.pdf faktura-30153558215\n",
      "/home/dhiraj/ocr/Mestro/data/set_3/faktura-30173327310.pdf faktura-30173327310\n",
      "/home/dhiraj/ocr/Mestro/data/set_3/faktura-30173548915.pdf faktura-30173548915\n"
     ]
    }
   ],
   "source": [
    "# for pdf_path in glob.glob(pdf_dir + '/*.pdf'):\n",
    "    \n",
    "\n",
    "#     image_filename = pdf_path.split('/')[-1][:-4]\n",
    "#     print(pdf_path, image_filename)\n",
    "#     images = pdf2image.convert_from_path(pdf_path, dpi=dpi, output_file=image_filename, output_folder=working_dir, fmt='jpg', paths_only=True)"
   ]
  },
  {
   "cell_type": "code",
   "execution_count": null,
   "metadata": {},
   "outputs": [],
   "source": [
    "images[:3]"
   ]
  },
  {
   "cell_type": "markdown",
   "metadata": {},
   "source": [
    "# Read annotaions "
   ]
  },
  {
   "cell_type": "code",
   "execution_count": 4,
   "metadata": {},
   "outputs": [],
   "source": [
    "import xml.etree.ElementTree as ET\n",
    "\n",
    "\n",
    "def read_content(xml_file: str):\n",
    "\n",
    "    tree = ET.parse(xml_file)\n",
    "    root = tree.getroot()\n",
    "\n",
    "    list_with_all_boxes = []\n",
    "\n",
    "    for boxes in root.iter('object'):\n",
    "\n",
    "        filename = root.find('filename').text\n",
    "        clss = None\n",
    "        ymin, xmin, ymax, xmax = None, None, None, None\n",
    "\n",
    "\n",
    "        clss = str(boxes.find(\"name\").text)\n",
    "        ymin = int(boxes.find(\"bndbox/ymin\").text)\n",
    "        xmin = int(boxes.find(\"bndbox/xmin\").text)\n",
    "        ymax = int(boxes.find(\"bndbox/ymax\").text)\n",
    "        xmax = int(boxes.find(\"bndbox/xmax\").text)\n",
    "\n",
    "        list_with_single_boxes = [xmin, ymin, xmax, ymax]\n",
    "        list_with_all_boxes.append( {'class' : clss  ,'box' : list_with_single_boxes }  )\n",
    "\n",
    "    return filename, list_with_all_boxes"
   ]
  },
  {
   "cell_type": "code",
   "execution_count": 5,
   "metadata": {},
   "outputs": [],
   "source": [
    "def crop_im(im,coord,show=True):\n",
    "    xmin,ymin,xmax,ymax = coord\n",
    "    crop = im[ymin:ymax,xmin:xmax]\n",
    "    if show:\n",
    "        plt.imshow(crop)\n",
    "    return crop\n",
    "\n",
    "def ocr(im):\n",
    "    return pytesseract.image_to_string(im,lang='Latin')"
   ]
  },
  {
   "cell_type": "code",
   "execution_count": 53,
   "metadata": {},
   "outputs": [],
   "source": [
    "images_dir = '/home/dhiraj/Documents/mestro-invoices/eval/Skellefteå Kraft/images'"
   ]
  },
  {
   "cell_type": "code",
   "execution_count": 54,
   "metadata": {},
   "outputs": [],
   "source": [
    "xml_path = '/home/dhiraj/Documents/mestro-invoices/eval/Skellefteå Kraft/annotations/type_2/fakt0001-03.xml'"
   ]
  },
  {
   "cell_type": "code",
   "execution_count": 55,
   "metadata": {},
   "outputs": [],
   "source": [
    "im_name, boxes = read_content(xml_path)"
   ]
  },
  {
   "cell_type": "code",
   "execution_count": 56,
   "metadata": {},
   "outputs": [
    {
     "data": {
      "text/plain": [
       "[{'class': 'header', 'box': [1313, 65, 2280, 273]},\n",
       " {'class': 'meterstand', 'box': [176, 522, 2307, 673]},\n",
       " {'class': 'facility_meta_1', 'box': [197, 692, 1402, 878]},\n",
       " {'class': 'facility_meta_2', 'box': [1435, 695, 2267, 874]},\n",
       " {'class': 'faciltity_data', 'box': [195, 929, 2299, 1299]},\n",
       " {'class': 'total', 'box': [172, 1303, 2307, 1373]},\n",
       " {'class': 'meterstand', 'box': [177, 1550, 2295, 1685]},\n",
       " {'class': 'facility_meta_1', 'box': [193, 1725, 1174, 1906]},\n",
       " {'class': 'facility_meta_2', 'box': [1437, 1720, 2262, 1917]},\n",
       " {'class': 'faciltity_data', 'box': [190, 1968, 2278, 2338]},\n",
       " {'class': 'total', 'box': [176, 2339, 2309, 2394]},\n",
       " {'class': 'meterstand', 'box': [190, 2597, 2300, 2732]},\n",
       " {'class': 'facility_meta_1', 'box': [186, 2767, 1160, 2945]},\n",
       " {'class': 'facility_meta_2', 'box': [1435, 2757, 2265, 2952]},\n",
       " {'class': 'faciltity_data', 'box': [187, 3002, 2289, 3285]},\n",
       " {'class': 'facility_meta_3', 'box': [198, 889, 1299, 929]},\n",
       " {'class': 'facility_meta_3', 'box': [199, 1920, 1300, 1968]},\n",
       " {'class': 'facility_meta_3', 'box': [197, 2958, 1293, 3002]}]"
      ]
     },
     "execution_count": 56,
     "metadata": {},
     "output_type": "execute_result"
    }
   ],
   "source": [
    "boxes"
   ]
  },
  {
   "cell_type": "code",
   "execution_count": 57,
   "metadata": {},
   "outputs": [],
   "source": [
    "image_path = os.path.join(images_dir,im_name)\n",
    "image = cv2.imread(image_path)"
   ]
  },
  {
   "cell_type": "code",
   "execution_count": 11,
   "metadata": {},
   "outputs": [
    {
     "data": {
      "image/png": "[encoded data removed]",
      "text/plain": [
       "<Figure size 432x288 with 1 Axes>"
      ]
     },
     "metadata": {
      "needs_background": "light"
     },
     "output_type": "display_data"
    }
   ],
   "source": [
    "box_index = 1\n",
    "_= crop_im(image, boxes[box_index]['box'])"
   ]
  },
  {
   "cell_type": "code",
   "execution_count": 58,
   "metadata": {},
   "outputs": [
    {
     "data": {
      "image/png": "[encoded data removed]",
      "text/plain": [
       "<Figure size 432x288 with 1 Axes>"
      ]
     },
     "metadata": {
      "needs_background": "light"
     },
     "output_type": "display_data"
    }
   ],
   "source": [
    "box_index = 4\n",
    "_= crop_im(image, boxes[box_index]['box'])"
   ]
  },
  {
   "cell_type": "code",
   "execution_count": 13,
   "metadata": {},
   "outputs": [
    {
     "data": {
      "image/png": "[encoded data removed]",
      "text/plain": [
       "<Figure size 432x288 with 1 Axes>"
      ]
     },
     "metadata": {
      "needs_background": "light"
     },
     "output_type": "display_data"
    }
   ],
   "source": [
    "box_index = 2\n",
    "_= crop_im(image, boxes[box_index]['box'])"
   ]
  },
  {
   "cell_type": "markdown",
   "metadata": {},
   "source": [
    "# OCR"
   ]
  },
  {
   "cell_type": "code",
   "execution_count": 14,
   "metadata": {},
   "outputs": [],
   "source": [
    "def get_text(boxes,image,skip_class=[]):\n",
    "    for box_index,box in enumerate(boxes) : \n",
    "        print('processing : ',box_index)\n",
    "        crop_cls = boxes[box_index]['class']\n",
    "        if crop_cls not in skip_class :\n",
    "            crop = crop_im(image, boxes[box_index]['box'],show=False)\n",
    "            boxes[box_index]['text'] = ocr(crop)\n",
    "    return boxes"
   ]
  },
  {
   "cell_type": "code",
   "execution_count": 59,
   "metadata": {},
   "outputs": [
    {
     "name": "stdout",
     "output_type": "stream",
     "text": [
      "faciltity_data \n",
      " Rörligt/avropat elpris\n",
      "\n",
      "SVK Avgifter\n",
      "\n",
      "Elcertifikatavgift\n",
      "\n",
      "Månadens förvaltningsresultat\n",
      "\n",
      "Fast förvaltningsavgift\n",
      "\n",
      "Månadens handelsavgift säkrad volym\n",
      "Ursprungsmärkt EL\n",
      "\n",
      "Moms 25,00 %\n",
      "\n",
      "287,00000 kWh\n",
      "287,00000 kWh\n",
      "287,00000 kWh\n",
      "1,00000 kWh\n",
      "1,00000 st\n",
      "155,00000 kWh\n",
      "287,00000 kWh\n",
      "\n",
      "0,83020 SEK/kWh\n",
      "\n",
      "0,00984 SEK/kWh\n",
      "\n",
      "0,00600 SEK/kWh\n",
      "-46,91006 SEK/kWh\n",
      "\n",
      "0,07000\n",
      "\n",
      "0,00050 SEK/kWh\n",
      "\n",
      "0,00450 SEK/kWh\n",
      "\n",
      "238,27 SEK\n",
      "2,82 SEK\n",
      "1,72 SEK\n",
      "\n",
      "-46,91 SEK\n",
      "0,07 SEK\n",
      "0,08 SEK\n",
      "1,29 SEK\n",
      "\n",
      "49,34 SEK\n",
      "\f\n"
     ]
    },
    {
     "data": {
      "image/png": "[encoded data removed]",
      "text/plain": [
       "<Figure size 432x288 with 1 Axes>"
      ]
     },
     "metadata": {
      "needs_background": "light"
     },
     "output_type": "display_data"
    }
   ],
   "source": [
    "box_index = 4\n",
    "crop_cls = boxes[box_index]['class']\n",
    "crop = crop_im(image, boxes[box_index]['box'])\n",
    "\n",
    "text = ocr(crop)\n",
    "print(crop_cls, '\\n',text)"
   ]
  },
  {
   "cell_type": "markdown",
   "metadata": {},
   "source": [
    "# Post-processing"
   ]
  },
  {
   "cell_type": "code",
   "execution_count": 16,
   "metadata": {},
   "outputs": [],
   "source": [
    "import re"
   ]
  },
  {
   "cell_type": "code",
   "execution_count": 17,
   "metadata": {},
   "outputs": [],
   "source": [
    "#design An abstract class for PostProcessing, define all the necceray methods for post-processing an invoice\n",
    "#For every new invoice we can inherit from PostProcessing and make changes in flow whenever required\n",
    "\n",
    "#To be read form a config file\n",
    "col_end_pattern = r'^\\d.* (kWh|st)$' \n",
    "\n",
    "def post_process(raw_layouts):\n",
    "    grouped_data = {}\n",
    "    for layout_index, layout in enumerate(raw_layouts):\n",
    "        cls = layout['class']\n",
    "        raw_layouts[layout_index]['data'] = process_class(cls,layout['text'])\n",
    "\n",
    "    return raw_layouts\n",
    "\n",
    "\n",
    "def process_class(cls,text):\n",
    "    if cls == 'facility_data':\n",
    "        return process_facility_data(text,col_end_pattern)\n",
    "    \n",
    "    if cls == 'c2':\n",
    "        return c2_process(text)\n",
    "\n",
    "def process_facility_data(text,col_end_pattern):\n",
    "    app_context = {}\n",
    "    filter_text = ['\\x0c' , '\\f' ,'\\v' , '\\x0b', None, '' ,'SEK/kWh']\n",
    "\n",
    "    app_context['lines'] = [line for line in text.split('\\n') if line not in filter_text]\n",
    "    app_context['col_end_index'] = find_pattern_index(app_context['lines'], col_end_pattern)\n",
    "\n",
    "    return partition_columns(app_context)\n",
    "\n",
    "\n",
    "def c2_process(text):\n",
    "    return {}\n"
   ]
  },
  {
   "cell_type": "code",
   "execution_count": null,
   "metadata": {},
   "outputs": [],
   "source": []
  },
  {
   "cell_type": "code",
   "execution_count": 61,
   "metadata": {},
   "outputs": [],
   "source": [
    "def find_pattern_index(lis,pattern):\n",
    "    #returns the first occurance of a given pattern\n",
    "    return lis.index([i for i in lis if re.findall(pattern, i)][0])\n",
    "\n",
    "def is_incomplete(app_context):\n",
    "\n",
    "    \"\"\"\n",
    "    For Skellefteå Kraft if Moms(VAT) is not the last row of first column then the block is incomplete\n",
    "    \"\"\"\n",
    "    col_end_index = app_context['col_end_index']\n",
    "    if 'Moms' in app_context['lines'][col_end_index -1] :\n",
    "        return False\n",
    "    return True\n",
    "\n",
    "\n",
    "def partition_columns(app_context):\n",
    "    if is_incomplete(app_context) :\n",
    "        print('HO')\n",
    "        return partial_parition(app_context)\n",
    "    print('HA')\n",
    "    return complete_partitiion(app_context)\n",
    "\n",
    "\n",
    "def complete_partitiion(app_context,data={}):\n",
    "    row_count = app_context['col_end_index'] - 1\n",
    "    start = 0\n",
    "    first_col = app_context['lines'][start: start + row_count]\n",
    "    start = row_count +1\n",
    "    second_col = app_context['lines'][start: start + row_count]\n",
    "    start += row_count\n",
    "    third_col = app_context['lines'][start: start + row_count]\n",
    "    start += row_count\n",
    "    fourth_col = app_context['lines'][start: start + row_count]\n",
    "\n",
    "    data['invoiceRows'] = map_cols(first_col,second_col,third_col,fourth_col)\n",
    "    data['VAT']  = app_context['lines'][-1]\n",
    "\n",
    "    return data\n",
    "\n",
    "\n",
    "\n",
    "def partial_parition(app_context):\n",
    "    return {}\n",
    "\n",
    "\n",
    "def map_cols(col_1,col_2,col_3,col_4):\n",
    "    print(col_1)\n",
    "    mapped_cols = []\n",
    "    for index in range(len(col_1)):\n",
    "        unit = ''\n",
    "        if 'st' not in col_2[index]:\n",
    "            unit =' SEK/kWh'\n",
    "        mapped_cols.append(\n",
    "            {\n",
    "                'text' : col_1[index],\n",
    "                'spec' : '{} {}{}'.format(col_2[index] , col_3[index],unit),\n",
    "                'value' : col_4[index]\n",
    "\n",
    "            }\n",
    "\n",
    "        )\n",
    "    return mapped_cols\n",
    "\n"
   ]
  },
  {
   "cell_type": "code",
   "execution_count": 60,
   "metadata": {},
   "outputs": [
    {
     "name": "stdout",
     "output_type": "stream",
     "text": [
      "[{'class': 'header', 'box': [1313, 65, 2280, 273]}, {'class': 'meterstand', 'box': [176, 522, 2307, 673]}, {'class': 'facility_meta_1', 'box': [197, 692, 1402, 878]}, {'class': 'facility_meta_2', 'box': [1435, 695, 2267, 874]}, {'class': 'faciltity_data', 'box': [195, 929, 2299, 1299]}, {'class': 'total', 'box': [172, 1303, 2307, 1373]}, {'class': 'meterstand', 'box': [177, 1550, 2295, 1685]}, {'class': 'facility_meta_1', 'box': [193, 1725, 1174, 1906]}, {'class': 'facility_meta_2', 'box': [1437, 1720, 2262, 1917]}, {'class': 'faciltity_data', 'box': [190, 1968, 2278, 2338]}, {'class': 'total', 'box': [176, 2339, 2309, 2394]}, {'class': 'meterstand', 'box': [190, 2597, 2300, 2732]}, {'class': 'facility_meta_1', 'box': [186, 2767, 1160, 2945]}, {'class': 'facility_meta_2', 'box': [1435, 2757, 2265, 2952]}, {'class': 'faciltity_data', 'box': [187, 3002, 2289, 3285]}, {'class': 'facility_meta_3', 'box': [198, 889, 1299, 929]}, {'class': 'facility_meta_3', 'box': [199, 1920, 1300, 1968]}, {'class': 'facility_meta_3', 'box': [197, 2958, 1293, 3002]}]\n"
     ]
    }
   ],
   "source": [
    "print(boxes)"
   ]
  },
  {
   "cell_type": "code",
   "execution_count": 62,
   "metadata": {},
   "outputs": [
    {
     "data": {
      "text/plain": [
       "'Rörligt/avropat elpris\\n\\nSVK Avgifter\\n\\nElcertifikatavgift\\n\\nMånadens förvaltningsresultat\\n\\nFast förvaltningsavgift\\n\\nMånadens handelsavgift säkrad volym\\nUrsprungsmärkt EL\\n\\nMoms 25,00 %\\n\\n287,00000 kWh\\n287,00000 kWh\\n287,00000 kWh\\n1,00000 kWh\\n1,00000 st\\n155,00000 kWh\\n287,00000 kWh\\n\\n0,83020 SEK/kWh\\n\\n0,00984 SEK/kWh\\n\\n0,00600 SEK/kWh\\n-46,91006 SEK/kWh\\n\\n0,07000\\n\\n0,00050 SEK/kWh\\n\\n0,00450 SEK/kWh\\n\\n238,27 SEK\\n2,82 SEK\\n1,72 SEK\\n\\n-46,91 SEK\\n0,07 SEK\\n0,08 SEK\\n1,29 SEK\\n\\n49,34 SEK\\n\\x0c'"
      ]
     },
     "execution_count": 62,
     "metadata": {},
     "output_type": "execute_result"
    }
   ],
   "source": [
    "text"
   ]
  },
  {
   "cell_type": "code",
   "execution_count": 63,
   "metadata": {},
   "outputs": [
    {
     "name": "stdout",
     "output_type": "stream",
     "text": [
      "HA\n",
      "['Rörligt/avropat elpris', 'SVK Avgifter', 'Elcertifikatavgift', 'Månadens förvaltningsresultat', 'Fast förvaltningsavgift', 'Månadens handelsavgift säkrad volym', 'Ursprungsmärkt EL']\n"
     ]
    },
    {
     "data": {
      "text/plain": [
       "{'invoiceRows': [{'text': 'Rörligt/avropat elpris',\n",
       "   'spec': '287,00000 kWh 0,83020 SEK/kWh SEK/kWh',\n",
       "   'value': '238,27 SEK'},\n",
       "  {'text': 'SVK Avgifter',\n",
       "   'spec': '287,00000 kWh 0,00984 SEK/kWh SEK/kWh',\n",
       "   'value': '2,82 SEK'},\n",
       "  {'text': 'Elcertifikatavgift',\n",
       "   'spec': '287,00000 kWh 0,00600 SEK/kWh SEK/kWh',\n",
       "   'value': '1,72 SEK'},\n",
       "  {'text': 'Månadens förvaltningsresultat',\n",
       "   'spec': '1,00000 kWh -46,91006 SEK/kWh SEK/kWh',\n",
       "   'value': '-46,91 SEK'},\n",
       "  {'text': 'Fast förvaltningsavgift',\n",
       "   'spec': '1,00000 st 0,07000',\n",
       "   'value': '0,07 SEK'},\n",
       "  {'text': 'Månadens handelsavgift säkrad volym',\n",
       "   'spec': '155,00000 kWh 0,00050 SEK/kWh SEK/kWh',\n",
       "   'value': '0,08 SEK'},\n",
       "  {'text': 'Ursprungsmärkt EL',\n",
       "   'spec': '287,00000 kWh 0,00450 SEK/kWh SEK/kWh',\n",
       "   'value': '1,29 SEK'}],\n",
       " 'VAT': '49,34 SEK'}"
      ]
     },
     "execution_count": 63,
     "metadata": {},
     "output_type": "execute_result"
    }
   ],
   "source": [
    "process_facility_data(text,col_end_pattern)"
   ]
  },
  {
   "cell_type": "code",
   "execution_count": null,
   "metadata": {},
   "outputs": [],
   "source": []
  },
  {
   "cell_type": "code",
   "execution_count": null,
   "metadata": {},
   "outputs": [],
   "source": []
  },
  {
   "cell_type": "code",
   "execution_count": null,
   "metadata": {},
   "outputs": [],
   "source": []
  },
  {
   "cell_type": "code",
   "execution_count": 20,
   "metadata": {},
   "outputs": [
    {
     "ename": "KeyError",
     "evalue": "'text'",
     "output_type": "error",
     "traceback": [
      "\u001b[0;31m---------------------------------------------------------------------------\u001b[0m",
      "\u001b[0;31mKeyError\u001b[0m                                  Traceback (most recent call last)",
      "\u001b[0;32m/tmp/ipykernel_181293/2197238325.py\u001b[0m in \u001b[0;36m<module>\u001b[0;34m\u001b[0m\n\u001b[0;32m----> 1\u001b[0;31m \u001b[0mgoruped_layout\u001b[0m \u001b[0;34m=\u001b[0m \u001b[0mpost_process\u001b[0m\u001b[0;34m(\u001b[0m\u001b[0mraw_layouts\u001b[0m\u001b[0;34m=\u001b[0m\u001b[0mboxes\u001b[0m\u001b[0;34m)\u001b[0m\u001b[0;34m\u001b[0m\u001b[0;34m\u001b[0m\u001b[0m\n\u001b[0m",
      "\u001b[0;32m/tmp/ipykernel_181293/462120356.py\u001b[0m in \u001b[0;36mpost_process\u001b[0;34m(raw_layouts)\u001b[0m\n\u001b[1;32m      9\u001b[0m     \u001b[0;32mfor\u001b[0m \u001b[0mlayout_index\u001b[0m\u001b[0;34m,\u001b[0m \u001b[0mlayout\u001b[0m \u001b[0;32min\u001b[0m \u001b[0menumerate\u001b[0m\u001b[0;34m(\u001b[0m\u001b[0mraw_layouts\u001b[0m\u001b[0;34m)\u001b[0m\u001b[0;34m:\u001b[0m\u001b[0;34m\u001b[0m\u001b[0;34m\u001b[0m\u001b[0m\n\u001b[1;32m     10\u001b[0m         \u001b[0mcls\u001b[0m \u001b[0;34m=\u001b[0m \u001b[0mlayout\u001b[0m\u001b[0;34m[\u001b[0m\u001b[0;34m'class'\u001b[0m\u001b[0;34m]\u001b[0m\u001b[0;34m\u001b[0m\u001b[0;34m\u001b[0m\u001b[0m\n\u001b[0;32m---> 11\u001b[0;31m         \u001b[0mraw_layouts\u001b[0m\u001b[0;34m[\u001b[0m\u001b[0mlayout_index\u001b[0m\u001b[0;34m]\u001b[0m\u001b[0;34m[\u001b[0m\u001b[0;34m'data'\u001b[0m\u001b[0;34m]\u001b[0m \u001b[0;34m=\u001b[0m \u001b[0mprocess_class\u001b[0m\u001b[0;34m(\u001b[0m\u001b[0mcls\u001b[0m\u001b[0;34m,\u001b[0m\u001b[0mlayout\u001b[0m\u001b[0;34m[\u001b[0m\u001b[0;34m'text'\u001b[0m\u001b[0;34m]\u001b[0m\u001b[0;34m)\u001b[0m\u001b[0;34m\u001b[0m\u001b[0;34m\u001b[0m\u001b[0m\n\u001b[0m\u001b[1;32m     12\u001b[0m \u001b[0;34m\u001b[0m\u001b[0m\n\u001b[1;32m     13\u001b[0m     \u001b[0;32mreturn\u001b[0m \u001b[0mraw_layouts\u001b[0m\u001b[0;34m\u001b[0m\u001b[0;34m\u001b[0m\u001b[0m\n",
      "\u001b[0;31mKeyError\u001b[0m: 'text'"
     ]
    }
   ],
   "source": [
    "goruped_layout = post_process(raw_layouts=boxes)"
   ]
  },
  {
   "cell_type": "code",
   "execution_count": null,
   "metadata": {},
   "outputs": [
    {
     "name": "stdout",
     "output_type": "stream",
     "text": [
      "[{'class': 'facility_meta_1', 'box': [205, 500, 1324, 669], 'text': 'Anläggningsinformation\\n\\nAnläggningsadress: Jungfruvägen 127B LGH 1001 79134 Falun\\nAnläggningsid: 735999227001018001\\n\\nOmrådesiID: FLN\\n\\x0c', 'data': None}, {'class': 'facility_meta_2', 'box': [1449, 497, 2284, 681], 'text': 'Avtalsinformation\\nRörligt elpris 4 år 2 mån, slutdatum 2023-12-31\\n\\nKontraktsnummer: 11790542\\n\\x0c', 'data': None}, {'class': 'facility_data', 'box': [208, 725, 2307, 1100], 'text': 'Rörligt/avropat elpris\\n\\nSVK Avgifter\\n\\nElcertifikatavgift\\n\\nMånadens förvaltningsresultat\\n\\nFast förvaltningsavgift\\n\\nMånadens handelsavgift säkrad volym\\nUrsprungsmärkt EL\\n\\nMoms 25,00 %\\n\\n68,00000 kWh\\n68,00000 kWh\\n68,00000 kWh\\n1,00000 kWh\\n1,00000 st\\n39,00000 kWh\\n68,00000 kWh\\n\\n0,77535\\n0,00984\\n0,00600\\n-11,11458\\n0,02000\\n0,00050\\n0,00450\\n\\nSEK/kWh\\nSEK/kWh\\nSEK/kWh\\nSEK/kWh\\n\\nSEK/kWh\\nSEK/kWh\\n\\n52,72 SEK\\n0,67 SEK\\n0,41 SEK\\n\\n-11,11 SEK\\n0,02 SEK\\n0,02 SEK\\n0,31 SEK\\n\\n10,77 SEK\\n\\x0c', 'data': {'invoiceRows': [{'text': 'Rörligt/avropat elpris', 'spec': '829,00000 kWh 0,64906 SEK/kWh', 'value': '538,07 SEK'}, {'text': 'SVK Avgifter', 'spec': '829,00000 kWh 0,00984 SEK/kWh', 'value': '8,16 SEK'}, {'text': 'Elcertifikatavgift', 'spec': '829,00000 kWh 0,00600 SEK/kWh', 'value': '4,97 SEK'}, {'text': 'Månadens förvaltningsresultat', 'spec': '1,00000 kWh -135,49979 SEK/kWh', 'value': '-135,50 SEK'}, {'text': 'Fast förvaltningsavgift', 'spec': '1,00000 st 0,21000', 'value': '0,21 SEK'}, {'text': 'Månadens handelsavgift säkrad volym', 'spec': '477,00000 kWh 0,00050 SEK/kWh', 'value': '0,24 SEK'}, {'text': 'Ursprungsmärkt EL', 'spec': '829,00000 kWh 0,00450 SEK/kWh', 'value': '3,73 SEK'}], 'VAT': '104,96 SEK'}}, {'class': 'total', 'box': [199, 1097, 2336, 1157], 'text': 'Totalt 53,81 SEK\\n\\x0c', 'data': None}, {'class': 'meterstand', 'box': [216, 1371, 2309, 1476], 'text': 'Mätarnummer: 76596 Mätarställning Förbrukning Beräknad årsförbrukning\\nEnergiförbrukning 2021-10-31 0,00 68 kWh 539 kWh\\n\\x0c', 'data': None}, {'class': 'header', 'box': [1295, 53, 2284, 294], 'text': '2(20)\\nFakturadatum 2021-11-03\\nKundnr 874363\\nFakturanr/OCR-nr 30156795319\\n\\x0c', 'data': None}, {'class': 'facility_meta_1', 'box': [211, 1527, 1319, 1699], 'text': 'Anläggningsinformation\\n\\nAnläggningsadress: Jungfruvägen 127C LGH 1001 79134 Falun\\nAnläggningsid: 735999227001018049\\n\\nOmrådesID: FLN\\n\\x0c', 'data': None}, {'class': 'facility_meta_2', 'box': [1451, 1525, 2277, 1712], 'text': 'Avtalsinformation\\nRörligt elpris 4 år 2 mån, slutdatum 2023-12-31\\n\\nKontraktsnummer: 11790569\\n\\x0c', 'data': None}, {'class': 'facility_data', 'box': [214, 1762, 2321, 2136], 'text': 'Rörligt/avropat elpris\\n\\nSVK Avgifter\\n\\nElcertifikatavgift\\n\\nMånadens förvaltningsresultat\\n\\nFast förvaltningsavgift\\n\\nMånadens handelsavgift säkrad volym\\nUrsprungsmärkt EL\\n\\nMoms 25,00 %\\n\\n829,00000 kWh\\n829,00000 kWh\\n829,00000 kWh\\n1,00000 kWh\\n1,00000 st\\n477,00000 kWh\\n829,00000 kWh\\n\\n0,64906\\n0,00984\\n0,00600\\n-135,49979\\n0,21000\\n0,00050\\n0,00450\\n\\nSEK/kWh\\nSEK/kWh\\nSEK/kWh\\nSEK/kWh\\n\\nSEK/kWh\\nSEK/kWh\\n\\n538,07 SEK\\n8,16 SEK\\n4,97 SEK\\n\\n-135,50 SEK\\n0,21 SEK\\n0,24 SEK\\n3,73 SEK\\n\\n104,96 SEK\\n\\x0c', 'data': {'invoiceRows': [{'text': 'Rörligt/avropat elpris', 'spec': '829,00000 kWh 0,64906 SEK/kWh', 'value': '538,07 SEK'}, {'text': 'SVK Avgifter', 'spec': '829,00000 kWh 0,00984 SEK/kWh', 'value': '8,16 SEK'}, {'text': 'Elcertifikatavgift', 'spec': '829,00000 kWh 0,00600 SEK/kWh', 'value': '4,97 SEK'}, {'text': 'Månadens förvaltningsresultat', 'spec': '1,00000 kWh -135,49979 SEK/kWh', 'value': '-135,50 SEK'}, {'text': 'Fast förvaltningsavgift', 'spec': '1,00000 st 0,21000', 'value': '0,21 SEK'}, {'text': 'Månadens handelsavgift säkrad volym', 'spec': '477,00000 kWh 0,00050 SEK/kWh', 'value': '0,24 SEK'}, {'text': 'Ursprungsmärkt EL', 'spec': '829,00000 kWh 0,00450 SEK/kWh', 'value': '3,73 SEK'}], 'VAT': '104,96 SEK'}}, {'class': 'total', 'box': [195, 2138, 2340, 2199], 'text': ' \\n\\n| Totalt 524,84 SEK |\\n\\x0c', 'data': None}, {'class': 'facility_meta_3', 'box': [217, 676, 1319, 730], 'text': 'Elhandel 2021-10-01 - 2021-10-31\\n\\x0c', 'data': None}, {'class': 'facility_meta_3', 'box': [222, 1726, 1325, 1763], 'text': 'Elhandel\\n\\x0c', 'data': None}]\n"
     ]
    }
   ],
   "source": [
    "print(goruped_layout)"
   ]
  },
  {
   "cell_type": "code",
   "execution_count": null,
   "metadata": {},
   "outputs": [
    {
     "data": {
      "text/plain": [
       "{'class': 'facility_data',\n",
       " 'box': [208, 725, 2307, 1100],\n",
       " 'text': 'Rörligt/avropat elpris\\n\\nSVK Avgifter\\n\\nElcertifikatavgift\\n\\nMånadens förvaltningsresultat\\n\\nFast förvaltningsavgift\\n\\nMånadens handelsavgift säkrad volym\\nUrsprungsmärkt EL\\n\\nMoms 25,00 %\\n\\n68,00000 kWh\\n68,00000 kWh\\n68,00000 kWh\\n1,00000 kWh\\n1,00000 st\\n39,00000 kWh\\n68,00000 kWh\\n\\n0,77535\\n0,00984\\n0,00600\\n-11,11458\\n0,02000\\n0,00050\\n0,00450\\n\\nSEK/kWh\\nSEK/kWh\\nSEK/kWh\\nSEK/kWh\\n\\nSEK/kWh\\nSEK/kWh\\n\\n52,72 SEK\\n0,67 SEK\\n0,41 SEK\\n\\n-11,11 SEK\\n0,02 SEK\\n0,02 SEK\\n0,31 SEK\\n\\n10,77 SEK\\n\\x0c',\n",
       " 'data': {'invoiceRows': [{'text': 'Rörligt/avropat elpris',\n",
       "    'spec': '829,00000 kWh 0,64906 SEK/kWh',\n",
       "    'value': '538,07 SEK'},\n",
       "   {'text': 'SVK Avgifter',\n",
       "    'spec': '829,00000 kWh 0,00984 SEK/kWh',\n",
       "    'value': '8,16 SEK'},\n",
       "   {'text': 'Elcertifikatavgift',\n",
       "    'spec': '829,00000 kWh 0,00600 SEK/kWh',\n",
       "    'value': '4,97 SEK'},\n",
       "   {'text': 'Månadens förvaltningsresultat',\n",
       "    'spec': '1,00000 kWh -135,49979 SEK/kWh',\n",
       "    'value': '-135,50 SEK'},\n",
       "   {'text': 'Fast förvaltningsavgift',\n",
       "    'spec': '1,00000 st 0,21000',\n",
       "    'value': '0,21 SEK'},\n",
       "   {'text': 'Månadens handelsavgift säkrad volym',\n",
       "    'spec': '477,00000 kWh 0,00050 SEK/kWh',\n",
       "    'value': '0,24 SEK'},\n",
       "   {'text': 'Ursprungsmärkt EL',\n",
       "    'spec': '829,00000 kWh 0,00450 SEK/kWh',\n",
       "    'value': '3,73 SEK'}],\n",
       "  'VAT': '104,96 SEK'}}"
      ]
     },
     "execution_count": 290,
     "metadata": {},
     "output_type": "execute_result"
    }
   ],
   "source": [
    "goruped_layout[2]"
   ]
  },
  {
   "cell_type": "code",
   "execution_count": null,
   "metadata": {},
   "outputs": [],
   "source": []
  },
  {
   "cell_type": "code",
   "execution_count": null,
   "metadata": {},
   "outputs": [],
   "source": []
  },
  {
   "cell_type": "code",
   "execution_count": 70,
   "metadata": {},
   "outputs": [],
   "source": [
    "xml_path = '/home/dhiraj/Documents/mestro-invoices/eval/Skellefteå Kraft/annotations/type_2/fakt0001-04.xml'"
   ]
  },
  {
   "cell_type": "code",
   "execution_count": 71,
   "metadata": {},
   "outputs": [
    {
     "name": "stdout",
     "output_type": "stream",
     "text": [
      "20 [{'class': 'h', 'box': [1294, 64, 2294, 282]}, {'class': 'fd', 'box': [179, 390, 2291, 493]}, {'class': 't', 'box': [167, 494, 2296, 551]}, {'class': 'ms', 'box': [170, 740, 2287, 876]}, {'class': 'fm1', 'box': [182, 915, 1191, 1101]}, {'class': 'fm2', 'box': [1434, 906, 2251, 1101]}, {'class': 'fd', 'box': [189, 1156, 2289, 1533]}, {'class': 't', 'box': [181, 1528, 2288, 1578]}, {'class': 'ms', 'box': [188, 1785, 2291, 1922]}, {'class': 'fm1', 'box': [187, 1955, 1193, 2125]}, {'class': 'fm2', 'box': [1433, 1957, 2257, 2143]}, {'class': 'fd', 'box': [185, 2188, 2303, 2561]}, {'class': 't', 'box': [178, 2560, 2303, 2619]}, {'class': 'ms', 'box': [188, 2816, 2296, 2961]}, {'class': 'fm1', 'box': [191, 2990, 1215, 3160]}, {'class': 'fm2', 'box': [1449, 2987, 2251, 3167]}, {'class': 'fd', 'box': [197, 3225, 2296, 3283]}, {'class': 'fm3', 'box': [198, 1113, 1296, 1157]}, {'class': 'fm3', 'box': [198, 2149, 1302, 2191]}, {'class': 'fm3', 'box': [198, 3174, 1289, 3226]}]\n"
     ]
    }
   ],
   "source": [
    "im_name, boxes = read_content(xml_path)\n",
    "image_path = os.path.join(images_dir,im_name)\n",
    "image = cv2.imread(image_path)\n",
    "print(len(boxes), boxes)"
   ]
  },
  {
   "cell_type": "code",
   "execution_count": 72,
   "metadata": {},
   "outputs": [
    {
     "name": "stdout",
     "output_type": "stream",
     "text": [
      "processing :  0\n",
      "processing :  1\n",
      "processing :  2\n",
      "processing :  3\n",
      "processing :  4\n",
      "processing :  5\n",
      "processing :  6\n",
      "processing :  7\n",
      "processing :  8\n",
      "processing :  9\n",
      "processing :  10\n",
      "processing :  11\n",
      "processing :  12\n",
      "processing :  13\n",
      "processing :  14\n",
      "processing :  15\n",
      "processing :  16\n",
      "processing :  17\n",
      "processing :  18\n",
      "processing :  19\n",
      "[{'class': 'h', 'box': [1294, 64, 2294, 282], 'text': '4(20)\\nFakturadatum 2021-11-03\\nKundnr 874363\\nFakturanr/OCR-nr 30156795319\\n\\x0c'}, {'class': 'fd', 'box': [179, 390, 2291, 493], 'text': 'Ursprungsmärkt EL 295,00000 kWh 0,00450 SEK/kWh 1,33 SEK\\nMoms 25,00 % 34,78 SEK\\n\\x0c'}, {'class': 't', 'box': [167, 494, 2296, 551], 'text': '| Totalt 173,89 SEK\\n\\x0c'}, {'class': 'ms', 'box': [170, 740, 2287, 876], 'text': 'Mätarnummer: 77143 Mätarställning Förbrukning Beräknad årsförbrukning\\nEnergiförbrukning 2021-10-31 0,00 295 kWh 3 143 kWh\\n\\n \\n\\x0c'}, {'class': 'fm1', 'box': [182, 915, 1191, 1101], 'text': 'Anläggningsinformation\\n\\nAnläggningsadress: Jungfruvägen 101a-101b 79134 Falun\\nAnläggningsid: 735999227001322771\\n\\nOmrådesiID: FLN\\n\\x0c'}, {'class': 'fm2', 'box': [1434, 906, 2251, 1101], 'text': 'Avtalsinformation\\nRörligt elpris 4 år 2 mån, slutdatum 2023-12-31\\n\\nKontraktsnummer: 11790658\\n\\x0c'}, {'class': 'fd', 'box': [189, 1156, 2289, 1533], 'text': 'Rörligt/avropat elpris\\n\\nSVK Avgifter\\n\\nElcertifikatavgift\\n\\nMånadens förvaltningsresultat\\n\\nFast förvaltningsavgift\\n\\nMånadens handelsavgift säkrad volym\\nUrsprungsmärkt EL\\n\\nMoms 25,00 %\\n\\n249,00000 kWh\\n249,00000 kWh\\n249,00000 kWh\\n1,00000 kWh\\n1,00000 st\\n136,00000 kWh\\n249,00000 kWh\\n\\n0,61972 SEK/kWh\\n\\n0,00984 SEK/kWh\\n\\n0,00600 SEK/kWh\\n-40,69897 SEK/kWh\\n\\n0,06000\\n\\n0,00050 SEK/kWh\\n\\n0,00450 SEK/kWh\\n\\n154,31 SEK\\n2,45 SEK\\n1,49 SEK\\n\\n-40,70 SEK\\n0,06 SEK\\n0,07 SEK\\n1,12 SEK\\n\\n29,70 SEK\\n\\x0c'}, {'class': 't', 'box': [181, 1528, 2288, 1578], 'text': 'Totalt 148,50 SEK\\n\\x0c'}, {'class': 'ms', 'box': [188, 1785, 2291, 1922], 'text': 'Mätarnummer: 77158 Mätarställning Förbrukning Beräknad årsförbrukning\\nEnergiförbrukning 2021-10-31 0,00 249 kWh 2 747 kWh\\n\\n \\n\\x0c'}, {'class': 'fm1', 'box': [187, 1955, 1193, 2125], 'text': 'Anläggningsinformation\\n\\nAnläggningsadress: Jungfruvägen 103a-103b 79134 Falun\\nAnläggningsid: 735999227001322788\\n\\nOmrådesID: FLN\\n\\x0c'}, {'class': 'fm2', 'box': [1433, 1957, 2257, 2143], 'text': 'Avtalsinformation\\nRörligt elpris 4 år 2 mån, slutdatum 2023-12-31\\n\\nKontraktsnummer: 11790623\\n\\x0c'}, {'class': 'fd', 'box': [185, 2188, 2303, 2561], 'text': 'Rörligt/avropat elpris\\n\\nSVK Avgifter\\n\\nElcertifikatavgift\\n\\nMånadens förvaltningsresultat\\n\\nFast förvaltningsavgift\\n\\nMånadens handelsavgift säkrad volym\\nUrsprungsmärkt EL\\n\\nMoms 25,00 %\\n\\n233,00000 kWh\\n233,00000 kWh\\n233,00000 kWh\\n1,00000 kWh\\n1,00000 st\\n136,00000 kWh\\n233,00000 kWh\\n\\n0,61608\\n0,00984\\n0,00600\\n-38,08378\\n0,06000\\n0,00050\\n0,00450\\n\\nSEK/kWh\\nSEK/kWh\\nSEK/kWh\\nSEK/kWh\\n\\nSEK/kWh\\nSEK/kWh\\n\\n143,55 SEK\\n2,29 SEK\\n1,40 SEK\\n\\n-38,08 SEK\\n0,06 SEK\\n0,07 SEK\\n1,05 SEK\\n\\n27,59 SEK\\n\\x0c'}, {'class': 't', 'box': [178, 2560, 2303, 2619], 'text': 'Totalt 137,93 SEK\\n\\x0c'}, {'class': 'ms', 'box': [188, 2816, 2296, 2961], 'text': 'Mätarnummer: 77145 Mätarställning Förbrukning Beräknad årsförbrukning\\nEnergiförbrukning 2021-10-31 0,00 233 kWh 2 574 kWh\\n\\n \\n\\x0c'}, {'class': 'fm1', 'box': [191, 2990, 1215, 3160], 'text': 'Anläggningsinformation\\n\\nAnläggningsadress: Jungfruvägen 105a-105b 79134 Falun\\nAnläggningsid: 735999227001322795\\n\\nOmrådesiID: FLN\\n\\x0c'}, {'class': 'fm2', 'box': [1449, 2987, 2251, 3167], 'text': 'Avtalsinformation\\nRörligt elpris 4 år 2 mån, slutdatum 2023-12-31\\n\\nKontraktsnummer: 11790550\\n\\x0c'}, {'class': 'fd', 'box': [197, 3225, 2296, 3283], 'text': 'Rörligt/avropat elpris 340,00000 kWh 0,63223 SEK/kWh 214,96 SEK\\n\\x0c'}, {'class': 'fm3', 'box': [198, 1113, 1296, 1157], 'text': 'Elhandel\\n\\x0c'}, {'class': 'fm3', 'box': [198, 2149, 1302, 2191], 'text': 'Elhandel 2021-10-01 - 2021-10-31\\n\\x0c'}, {'class': 'fm3', 'box': [198, 3174, 1289, 3226], 'text': 'Elhandel 2021-10-01 - 2021-10-31\\n\\x0c'}]\n"
     ]
    }
   ],
   "source": [
    "raw_layouts = get_text(boxes=boxes)\n",
    "print(raw_layouts)"
   ]
  },
  {
   "cell_type": "code",
   "execution_count": 73,
   "metadata": {},
   "outputs": [
    {
     "name": "stdout",
     "output_type": "stream",
     "text": [
      "[{'class': 'h', 'box': [1294, 64, 2294, 282], 'text': '4(20)\\nFakturadatum 2021-11-03\\nKundnr 874363\\nFakturanr/OCR-nr 30156795319\\n\\x0c', 'data': None}, {'class': 'fd', 'box': [179, 390, 2291, 493], 'text': 'Ursprungsmärkt EL 295,00000 kWh 0,00450 SEK/kWh 1,33 SEK\\nMoms 25,00 % 34,78 SEK\\n\\x0c', 'data': None}, {'class': 't', 'box': [167, 494, 2296, 551], 'text': '| Totalt 173,89 SEK\\n\\x0c', 'data': None}, {'class': 'ms', 'box': [170, 740, 2287, 876], 'text': 'Mätarnummer: 77143 Mätarställning Förbrukning Beräknad årsförbrukning\\nEnergiförbrukning 2021-10-31 0,00 295 kWh 3 143 kWh\\n\\n \\n\\x0c', 'data': None}, {'class': 'fm1', 'box': [182, 915, 1191, 1101], 'text': 'Anläggningsinformation\\n\\nAnläggningsadress: Jungfruvägen 101a-101b 79134 Falun\\nAnläggningsid: 735999227001322771\\n\\nOmrådesiID: FLN\\n\\x0c', 'data': None}, {'class': 'fm2', 'box': [1434, 906, 2251, 1101], 'text': 'Avtalsinformation\\nRörligt elpris 4 år 2 mån, slutdatum 2023-12-31\\n\\nKontraktsnummer: 11790658\\n\\x0c', 'data': None}, {'class': 'fd', 'box': [189, 1156, 2289, 1533], 'text': 'Rörligt/avropat elpris\\n\\nSVK Avgifter\\n\\nElcertifikatavgift\\n\\nMånadens förvaltningsresultat\\n\\nFast förvaltningsavgift\\n\\nMånadens handelsavgift säkrad volym\\nUrsprungsmärkt EL\\n\\nMoms 25,00 %\\n\\n249,00000 kWh\\n249,00000 kWh\\n249,00000 kWh\\n1,00000 kWh\\n1,00000 st\\n136,00000 kWh\\n249,00000 kWh\\n\\n0,61972 SEK/kWh\\n\\n0,00984 SEK/kWh\\n\\n0,00600 SEK/kWh\\n-40,69897 SEK/kWh\\n\\n0,06000\\n\\n0,00050 SEK/kWh\\n\\n0,00450 SEK/kWh\\n\\n154,31 SEK\\n2,45 SEK\\n1,49 SEK\\n\\n-40,70 SEK\\n0,06 SEK\\n0,07 SEK\\n1,12 SEK\\n\\n29,70 SEK\\n\\x0c', 'data': None}, {'class': 't', 'box': [181, 1528, 2288, 1578], 'text': 'Totalt 148,50 SEK\\n\\x0c', 'data': None}, {'class': 'ms', 'box': [188, 1785, 2291, 1922], 'text': 'Mätarnummer: 77158 Mätarställning Förbrukning Beräknad årsförbrukning\\nEnergiförbrukning 2021-10-31 0,00 249 kWh 2 747 kWh\\n\\n \\n\\x0c', 'data': None}, {'class': 'fm1', 'box': [187, 1955, 1193, 2125], 'text': 'Anläggningsinformation\\n\\nAnläggningsadress: Jungfruvägen 103a-103b 79134 Falun\\nAnläggningsid: 735999227001322788\\n\\nOmrådesID: FLN\\n\\x0c', 'data': None}, {'class': 'fm2', 'box': [1433, 1957, 2257, 2143], 'text': 'Avtalsinformation\\nRörligt elpris 4 år 2 mån, slutdatum 2023-12-31\\n\\nKontraktsnummer: 11790623\\n\\x0c', 'data': None}, {'class': 'fd', 'box': [185, 2188, 2303, 2561], 'text': 'Rörligt/avropat elpris\\n\\nSVK Avgifter\\n\\nElcertifikatavgift\\n\\nMånadens förvaltningsresultat\\n\\nFast förvaltningsavgift\\n\\nMånadens handelsavgift säkrad volym\\nUrsprungsmärkt EL\\n\\nMoms 25,00 %\\n\\n233,00000 kWh\\n233,00000 kWh\\n233,00000 kWh\\n1,00000 kWh\\n1,00000 st\\n136,00000 kWh\\n233,00000 kWh\\n\\n0,61608\\n0,00984\\n0,00600\\n-38,08378\\n0,06000\\n0,00050\\n0,00450\\n\\nSEK/kWh\\nSEK/kWh\\nSEK/kWh\\nSEK/kWh\\n\\nSEK/kWh\\nSEK/kWh\\n\\n143,55 SEK\\n2,29 SEK\\n1,40 SEK\\n\\n-38,08 SEK\\n0,06 SEK\\n0,07 SEK\\n1,05 SEK\\n\\n27,59 SEK\\n\\x0c', 'data': None}, {'class': 't', 'box': [178, 2560, 2303, 2619], 'text': 'Totalt 137,93 SEK\\n\\x0c', 'data': None}, {'class': 'ms', 'box': [188, 2816, 2296, 2961], 'text': 'Mätarnummer: 77145 Mätarställning Förbrukning Beräknad årsförbrukning\\nEnergiförbrukning 2021-10-31 0,00 233 kWh 2 574 kWh\\n\\n \\n\\x0c', 'data': None}, {'class': 'fm1', 'box': [191, 2990, 1215, 3160], 'text': 'Anläggningsinformation\\n\\nAnläggningsadress: Jungfruvägen 105a-105b 79134 Falun\\nAnläggningsid: 735999227001322795\\n\\nOmrådesiID: FLN\\n\\x0c', 'data': None}, {'class': 'fm2', 'box': [1449, 2987, 2251, 3167], 'text': 'Avtalsinformation\\nRörligt elpris 4 år 2 mån, slutdatum 2023-12-31\\n\\nKontraktsnummer: 11790550\\n\\x0c', 'data': None}, {'class': 'fd', 'box': [197, 3225, 2296, 3283], 'text': 'Rörligt/avropat elpris 340,00000 kWh 0,63223 SEK/kWh 214,96 SEK\\n\\x0c', 'data': None}, {'class': 'fm3', 'box': [198, 1113, 1296, 1157], 'text': 'Elhandel\\n\\x0c', 'data': None}, {'class': 'fm3', 'box': [198, 2149, 1302, 2191], 'text': 'Elhandel 2021-10-01 - 2021-10-31\\n\\x0c', 'data': None}, {'class': 'fm3', 'box': [198, 3174, 1289, 3226], 'text': 'Elhandel 2021-10-01 - 2021-10-31\\n\\x0c', 'data': None}]\n"
     ]
    }
   ],
   "source": [
    "goruped_layout = post_process(raw_layouts=raw_layouts)\n",
    "print(goruped_layout)"
   ]
  },
  {
   "cell_type": "code",
   "execution_count": 74,
   "metadata": {},
   "outputs": [],
   "source": [
    "layout_index = -1\n"
   ]
  },
  {
   "cell_type": "code",
   "execution_count": 76,
   "metadata": {},
   "outputs": [
    {
     "data": {
      "text/plain": [
       "{'class': 'fd',\n",
       " 'box': [179, 390, 2291, 493],\n",
       " 'text': 'Ursprungsmärkt EL 295,00000 kWh 0,00450 SEK/kWh 1,33 SEK\\nMoms 25,00 % 34,78 SEK\\n\\x0c',\n",
       " 'data': None}"
      ]
     },
     "execution_count": 76,
     "metadata": {},
     "output_type": "execute_result"
    }
   ],
   "source": [
    "\n",
    "\n",
    "layout_index +=1\n",
    "goruped_layout[layout_index]"
   ]
  },
  {
   "cell_type": "code",
   "execution_count": 82,
   "metadata": {},
   "outputs": [],
   "source": [
    "text = 'Ursprungsmärkt EL 295,00000 kWh 0,00450 SEK/kWh 1,33 SEK\\nMoms 25,00 % 34,78 SEK\\n\\x0c'\n",
    "\n",
    "filter_text = ['\\x0c' , '\\f' ,'\\v' , '\\x0b', None, '' ,'SEK/kWh']\n",
    "\n",
    "lines = [line for line in text.split('\\n') if line not in filter_text]"
   ]
  },
  {
   "cell_type": "code",
   "execution_count": 80,
   "metadata": {},
   "outputs": [
    {
     "ename": "IndexError",
     "evalue": "list index out of range",
     "output_type": "error",
     "traceback": [
      "\u001b[0;31m---------------------------------------------------------------------------\u001b[0m",
      "\u001b[0;31mIndexError\u001b[0m                                Traceback (most recent call last)",
      "\u001b[0;32m/tmp/ipykernel_181293/707669891.py\u001b[0m in \u001b[0;36m<module>\u001b[0;34m\u001b[0m\n\u001b[1;32m      1\u001b[0m \u001b[0mcol_end_pattern\u001b[0m \u001b[0;34m=\u001b[0m \u001b[0;34mr'^\\d.* (kWh|st)$'\u001b[0m\u001b[0;34m\u001b[0m\u001b[0;34m\u001b[0m\u001b[0m\n\u001b[0;32m----> 2\u001b[0;31m \u001b[0mfind_pattern_index\u001b[0m\u001b[0;34m(\u001b[0m\u001b[0mtext\u001b[0m\u001b[0;34m,\u001b[0m\u001b[0mcol_end_pattern\u001b[0m\u001b[0;34m)\u001b[0m\u001b[0;34m\u001b[0m\u001b[0;34m\u001b[0m\u001b[0m\n\u001b[0m",
      "\u001b[0;32m/tmp/ipykernel_181293/2791906771.py\u001b[0m in \u001b[0;36mfind_pattern_index\u001b[0;34m(lis, pattern)\u001b[0m\n\u001b[1;32m      1\u001b[0m \u001b[0;32mdef\u001b[0m \u001b[0mfind_pattern_index\u001b[0m\u001b[0;34m(\u001b[0m\u001b[0mlis\u001b[0m\u001b[0;34m,\u001b[0m\u001b[0mpattern\u001b[0m\u001b[0;34m)\u001b[0m\u001b[0;34m:\u001b[0m\u001b[0;34m\u001b[0m\u001b[0;34m\u001b[0m\u001b[0m\n\u001b[1;32m      2\u001b[0m     \u001b[0;31m#returns the first occurance of a given pattern\u001b[0m\u001b[0;34m\u001b[0m\u001b[0;34m\u001b[0m\u001b[0;34m\u001b[0m\u001b[0m\n\u001b[0;32m----> 3\u001b[0;31m     \u001b[0;32mreturn\u001b[0m \u001b[0mlis\u001b[0m\u001b[0;34m.\u001b[0m\u001b[0mindex\u001b[0m\u001b[0;34m(\u001b[0m\u001b[0;34m[\u001b[0m\u001b[0mi\u001b[0m \u001b[0;32mfor\u001b[0m \u001b[0mi\u001b[0m \u001b[0;32min\u001b[0m \u001b[0mlis\u001b[0m \u001b[0;32mif\u001b[0m \u001b[0mre\u001b[0m\u001b[0;34m.\u001b[0m\u001b[0mfindall\u001b[0m\u001b[0;34m(\u001b[0m\u001b[0mpattern\u001b[0m\u001b[0;34m,\u001b[0m \u001b[0mi\u001b[0m\u001b[0;34m)\u001b[0m\u001b[0;34m]\u001b[0m\u001b[0;34m[\u001b[0m\u001b[0;36m0\u001b[0m\u001b[0;34m]\u001b[0m\u001b[0;34m)\u001b[0m\u001b[0;34m\u001b[0m\u001b[0;34m\u001b[0m\u001b[0m\n\u001b[0m\u001b[1;32m      4\u001b[0m \u001b[0;34m\u001b[0m\u001b[0m\n\u001b[1;32m      5\u001b[0m \u001b[0;32mdef\u001b[0m \u001b[0mis_incomplete\u001b[0m\u001b[0;34m(\u001b[0m\u001b[0mapp_context\u001b[0m\u001b[0;34m)\u001b[0m\u001b[0;34m:\u001b[0m\u001b[0;34m\u001b[0m\u001b[0;34m\u001b[0m\u001b[0m\n",
      "\u001b[0;31mIndexError\u001b[0m: list index out of range"
     ]
    }
   ],
   "source": [
    "col_end_pattern = r'^\\d.* (kWh|st)$' \n",
    "find_pattern_index(text,col_end_pattern)"
   ]
  },
  {
   "cell_type": "code",
   "execution_count": 81,
   "metadata": {},
   "outputs": [
    {
     "name": "stdout",
     "output_type": "stream",
     "text": [
      "Ursprungsmärkt EL 295,00000 kWh 0,00450 SEK/kWh 1,33 SEK\n",
      "Moms 25,00 % 34,78 SEK\n",
      "\f\n"
     ]
    }
   ],
   "source": [
    "print(text)"
   ]
  },
  {
   "cell_type": "code",
   "execution_count": 83,
   "metadata": {},
   "outputs": [
    {
     "data": {
      "text/plain": [
       "['Ursprungsmärkt EL 295,00000 kWh 0,00450 SEK/kWh 1,33 SEK',\n",
       " 'Moms 25,00 % 34,78 SEK']"
      ]
     },
     "execution_count": 83,
     "metadata": {},
     "output_type": "execute_result"
    }
   ],
   "source": [
    "lines"
   ]
  },
  {
   "cell_type": "code",
   "execution_count": null,
   "metadata": {},
   "outputs": [],
   "source": [
    "lis.index([i for i in lis if re.findall(col_end_pattern, i)][0])"
   ]
  },
  {
   "cell_type": "code",
   "execution_count": 90,
   "metadata": {},
   "outputs": [
    {
     "data": {
      "text/plain": [
       "[]"
      ]
     },
     "execution_count": 90,
     "metadata": {},
     "output_type": "execute_result"
    }
   ],
   "source": [
    "col_end_pattern = r'^\\d.* (kWh|st)$' \n",
    "re.findall(col_end_pattern, lines[0] )"
   ]
  },
  {
   "cell_type": "code",
   "execution_count": null,
   "metadata": {},
   "outputs": [],
   "source": [
    "date_index"
   ]
  },
  {
   "cell_type": "code",
   "execution_count": 68,
   "metadata": {},
   "outputs": [],
   "source": [
    "layout_name = { 'm' : 'meta',\n",
    "    'h' : 'header' ,\n",
    " 'fm1' : 'facility-meta-1' ,\n",
    "  'fm1' : 'facility-meta-1',\n",
    "  'fm1' : 'facility-meta-1' \n",
    "  ,'fd' : 'facility_data', \n",
    "  'ms'   : 'meterstand',\n",
    "  't'    : 'total'}"
   ]
  },
  {
   "cell_type": "code",
   "execution_count": 69,
   "metadata": {},
   "outputs": [],
   "source": [
    "a = {'class': 'fd', 'box': [179, 390, 2291, 493], 'text': 'Ursprungsmärkt EL 295,00000 kWh 0,00450 SEK/kWh 1,33 SEK\\nMoms 25,00 % 34,78 SEK\\n\\x0c'}"
   ]
  },
  {
   "cell_type": "markdown",
   "metadata": {},
   "source": []
  }
 ],
 "metadata": {
  "interpreter": {
   "hash": "916dbcbb3f70747c44a77c7bcd40155683ae19c65e1c03b4aa3499c5328201f1"
  },
  "kernelspec": {
   "display_name": "Python 3.8.10 64-bit",
   "language": "python",
   "name": "python3"
  },
  "language_info": {
   "codemirror_mode": {
    "name": "ipython",
    "version": 3
   },
   "file_extension": ".py",
   "mimetype": "text/x-python",
   "name": "python",
   "nbconvert_exporter": "python",
   "pygments_lexer": "ipython3",
   "version": "3.8.10"
  },
  "orig_nbformat": 4
 },
 "nbformat": 4,
 "nbformat_minor": 2
}

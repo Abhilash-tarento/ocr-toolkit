{
 "cells": [
  {
   "cell_type": "code",
   "execution_count": 90,
   "metadata": {},
   "outputs": [],
   "source": [
    "import json\n",
    "import glob\n",
    "import re"
   ]
  },
  {
   "cell_type": "code",
   "execution_count": 207,
   "metadata": {},
   "outputs": [],
   "source": [
    "\n",
    "def find_pattern_index(lis, pattern,last=False,index=True,all=False):\n",
    "    # returns the first occurance of a given pattern\n",
    "    try:\n",
    "        element = 0\n",
    "        if last:\n",
    "            element = -1 \n",
    "        if index :\n",
    "            return lis.index([i for i in lis if re.findall(pattern, i)][element])\n",
    "        elif all :\n",
    "            return [i for i in lis if re.findall(pattern, i)]\n",
    "        return [i for i in lis if re.findall(pattern, i)][element]\n",
    "        \n",
    "    except Exception as e :\n",
    "        print('Error in finding pattern',e)\n",
    "        return None\n"
   ]
  },
  {
   "cell_type": "code",
   "execution_count": 309,
   "metadata": {},
   "outputs": [],
   "source": [
    "a = {'a' : 23}"
   ]
  },
  {
   "cell_type": "code",
   "execution_count": 310,
   "metadata": {},
   "outputs": [
    {
     "data": {
      "text/plain": [
       "23"
      ]
     },
     "execution_count": 310,
     "metadata": {},
     "output_type": "execute_result"
    }
   ],
   "source": []
  },
  {
   "cell_type": "code",
   "execution_count": null,
   "metadata": {},
   "outputs": [],
   "source": []
  },
  {
   "cell_type": "code",
   "execution_count": 160,
   "metadata": {},
   "outputs": [],
   "source": []
  },
  {
   "cell_type": "code",
   "execution_count": 161,
   "metadata": {},
   "outputs": [],
   "source": []
  },
  {
   "cell_type": "code",
   "execution_count": 162,
   "metadata": {},
   "outputs": [],
   "source": [
    "# Aggregation"
   ]
  },
  {
   "cell_type": "code",
   "execution_count": null,
   "metadata": {},
   "outputs": [],
   "source": [
    "# {\n",
    "# c_id\n",
    "# in_num\n",
    "# invoci secion [{\n",
    "\n",
    "# facility_id:\n",
    "# address :\n",
    "# contractId:\n",
    "\n",
    "# costData : [\n",
    "# {\n",
    "# kind :\n",
    "# period:\n",
    "# VAT : \n",
    "# invoiceRows\n",
    "# totalCost\n",
    "\n",
    "# }\n",
    "\n",
    "# ]\n",
    "# meterstands : [\n",
    "\n",
    "\n",
    "# {\n",
    "# totalCons\n",
    "# meterNumber\n",
    "# datapoints : []\n",
    "\n",
    "# }\n",
    "\n",
    "\n",
    "# ]\n",
    "\n",
    "\n",
    "\n",
    "# }]\n",
    "# }"
   ]
  },
  {
   "cell_type": "code",
   "execution_count": null,
   "metadata": {},
   "outputs": [],
   "source": []
  },
  {
   "cell_type": "code",
   "execution_count": null,
   "metadata": {},
   "outputs": [],
   "source": []
  },
  {
   "cell_type": "code",
   "execution_count": null,
   "metadata": {},
   "outputs": [],
   "source": []
  },
  {
   "cell_type": "code",
   "execution_count": 100,
   "metadata": {},
   "outputs": [],
   "source": [
    "\n",
    "# class FD:\n",
    "#     def __init__(\n",
    "#         self, text, col_end_pattern=fd_col_end_pattern, filter_patterns=filter_patterns\n",
    "#     ):\n",
    "#         self.text = text\n",
    "#         self.filter_patterns = filter_patterns\n",
    "#         self.col_end_pattern = col_end_pattern\n",
    "#         self.app_context = {}\n",
    "#         self.data = {'invoiceRows': []}\n",
    "\n",
    "#     def process_layout(self):\n",
    "\n",
    "#         self.app_context[\"lines\"] = [\n",
    "#             line for line in self.text.split(\"\\n\") if line not in self.filter_patterns\n",
    "#         ]\n",
    "#         print(self.app_context[\"lines\"])\n",
    "#         if len(self.app_context[\"lines\"]) > 1 :\n",
    "#             self.app_context[\"col_end_index\"] = find_pattern_index(\n",
    "#                 self.app_context[\"lines\"], self.col_end_pattern\n",
    "#             )\n",
    "\n",
    "#             self.partition_columns()\n",
    "#         elif len(self.app_context[\"lines\"]) == 1:\n",
    "#             #if last line is Vat\n",
    "#             if \"Moms\" in self.app_context[\"lines\"][0]:\n",
    "#                 self.map_single_line_vat()\n",
    "#             else :\n",
    "#                 self.map_single_line(self.app_context['lines'][0])\n",
    "\n",
    "#         return self.data\n",
    "\n",
    "#     def partition_columns(self):\n",
    "#         if self.is_incomplete():\n",
    "#             return self.partial_parition()\n",
    "#         return self.complete_partitiion()\n",
    "\n",
    "#     def is_incomplete(self):\n",
    "\n",
    "#         \"\"\"\n",
    "#         For Skellefteå Kraft if Moms(VAT) is not the last row of first column then the block is incomplete\n",
    "#         \"\"\"\n",
    "#         col_end_index = self.app_context[\"col_end_index\"]\n",
    "#         if \"Moms\" in self.app_context[\"lines\"][col_end_index - 1]:\n",
    "#             return False\n",
    "#         return True\n",
    "\n",
    "#     def complete_partitiion(self):\n",
    "        \n",
    "#         row_count = self.app_context[\"col_end_index\"] - 1\n",
    "#         start = 0\n",
    "#         first_col = self.app_context[\"lines\"][start : start + row_count]\n",
    "#         start = row_count + 1\n",
    "#         second_col = self.app_context[\"lines\"][start : start + row_count]\n",
    "#         start += row_count\n",
    "#         third_col = self.app_context[\"lines\"][start : start + row_count]\n",
    "#         start += row_count\n",
    "#         fourth_col = self.app_context[\"lines\"][start : start + row_count]\n",
    "        \n",
    "#         self.data['c1'] = first_col\n",
    "#         self.data['c2'] = second_col\n",
    "#         self.data['c3'] = third_col\n",
    "#         self.data['c4'] = fourth_col\n",
    "\n",
    "#         self.data[\"invoiceRows\"] += self.map_cols(\n",
    "#             first_col, second_col, third_col, fourth_col\n",
    "#         )\n",
    "#         self.data[\"VAT\"] = self.app_context[\"lines\"][-1]\n",
    "\n",
    "\n",
    "\n",
    "#     def partial_parition(self):\n",
    "#         return self.data\n",
    "\n",
    "#     def map_cols(self, col_1, col_2, col_3, col_4):\n",
    "#         mapped_cols = []\n",
    "#         for index in range(len(col_1)):\n",
    "#             unit = \"\"\n",
    "#             if \"kWh\"  in col_2[index]:\n",
    "#                 unit = \" SEK/kWh\"\n",
    "#             mapped_cols.append(\n",
    "#                 {\n",
    "#                     \"text\": col_1[index],\n",
    "#                     \"spec\": \"{} {}{}\".format(col_2[index], col_3[index], unit),\n",
    "#                     \"value\": col_3[index],\n",
    "#                 }\n",
    "#             )\n",
    "#         return mapped_cols\n",
    "\n",
    "#     def map_single_line(self,line):\n",
    "\n",
    "#         lines =  line.split()\n",
    "#         print(lines)\n",
    "\n",
    "#         col_index = find_pattern_index(\n",
    "#                 lines, self.col_end_pattern\n",
    "#             )\n",
    "#         unit = \"\"\n",
    "#         if \"kWh\"  in lines[col_index]:\n",
    "#             unit = \" SEK/kWh\"\n",
    "#         row = {\n",
    "#                         \"text\": ' '.join(lines[:col_index]),\n",
    "#                         \"spec\": \"{} {}{}\".format(lines[col_index], lines[col_index +1], unit),\n",
    "#                         \"value\": ' '.join(lines[-2: ]),\n",
    "#                     }\n",
    "#         self.data['invoiceRows'].append(row)\n",
    "\n",
    "#     def map_single_line_vat(self):\n",
    "#         return {'VAT' : self.app_context['lines'][0].split('% ')[1]}"
   ]
  },
  {
   "cell_type": "code",
   "execution_count": 163,
   "metadata": {},
   "outputs": [
    {
     "name": "stdout",
     "output_type": "stream",
     "text": [
      "{'class': 'fd', 'coords': [201.62440490722656, 727.7767944335938, 2313.2998046875, 1102.50244140625], 'score': '1.00', 'text': {'block_num': [0, 1, 1, 1, 1, 1, 1, 1, 1, 1, 1, 1, 1, 1, 1, 1, 1, 1, 1, 1, 1, 1, 1, 1, 1, 1, 1, 1, 1, 1, 1, 1, 1, 1, 1, 2, 2, 2, 2, 2, 2, 2, 2, 2, 2, 2, 2, 2, 2, 3, 3, 3, 3, 3, 3, 3, 3, 3, 3, 4, 4, 4, 4, 4, 4, 4, 4, 4, 4, 4, 4, 4, 4, 4, 4, 4, 4, 4, 5, 5, 5, 5, 5, 5, 5, 5, 6, 6, 6, 6, 6, 6, 7, 7, 7, 7, 7, 7, 7, 7, 7, 7, 7, 7, 7, 7, 7, 7, 7, 7, 7, 7, 7, 7, 7, 7, 7, 7, 7, 7, 7, 7, 7], 'conf': ['-1', '-1', '-1', '-1', 91, 95, '-1', '-1', 96, 96, '-1', '-1', 87, '-1', '-1', 92, 91, '-1', '-1', 93, 91, '-1', '-1', 91, 89, 96, 96, '-1', 89, 96, '-1', '-1', 95, 93, 93, '-1', '-1', '-1', 95, 95, 96, '-1', 95, 95, 96, '-1', 95, 95, 96, '-1', '-1', '-1', 92, 92, 92, '-1', 95, 95, 96, '-1', '-1', '-1', 95, '-1', 96, '-1', 96, '-1', '-1', 83, 83, '-1', 91, 91, '-1', 95, '-1', 95, '-1', '-1', '-1', 90, '-1', 89, '-1', 89, '-1', '-1', '-1', 90, '-1', 90, '-1', '-1', '-1', 96, 96, 94, '-1', 96, 96, '-1', 96, 96, '-1', '-1', 96, 96, 96, '-1', 96, 95, '-1', 96, 95, '-1', 96, 96, '-1', '-1', 94, 95, 96], 'height': [377, 358, 35, 35, 35, 35, 35, 35, 27, 35, 35, 35, 35, 37, 37, 29, 35, 35, 35, 27, 35, 83, 37, 29, 35, 27, 35, 35, 35, 27, 32, 32, 27, 32, 28, 120, 120, 27, 27, 27, 27, 27, 27, 27, 27, 27, 27, 27, 27, 73, 73, 27, 27, 27, 27, 27, 27, 27, 27, 311, 125, 32, 32, 32, 32, 32, 32, 171, 32, 27, 32, 32, 27, 32, 32, 32, 32, 32, 121, 121, 27, 27, 28, 28, 28, 28, 74, 74, 28, 28, 28, 28, 358, 125, 32, 27, 32, 28, 32, 32, 28, 32, 32, 27, 171, 32, 27, 32, 27, 32, 32, 27, 32, 32, 27, 32, 32, 27, 32, 32, 27, 32, 28], 'left': [0, 45, 46, 46, 46, 299, 45, 45, 45, 129, 46, 46, 46, 46, 46, 46, 229, 46, 46, 46, 127, 46, 46, 46, 231, 462, 584, 46, 46, 323, 46, 46, 46, 157, 262, 900, 900, 900, 900, 950, 1023, 900, 900, 950, 1023, 900, 900, 950, 1023, 900, 900, 918, 918, 950, 1023, 900, 900, 950, 1023, 1155, 1241, 1241, 1241, 1241, 1241, 1241, 1241, 1155, 1155, 1155, 1199, 1170, 1170, 1199, 1241, 1241, 1241, 1241, 1397, 1397, 1397, 1397, 1397, 1397, 1397, 1397, 1397, 1397, 1397, 1397, 1397, 1397, 1879, 1892, 1892, 1892, 1924, 2049, 1926, 1926, 2049, 1944, 1944, 2049, 1879, 1879, 1879, 1924, 2049, 1965, 1965, 2049, 1965, 1965, 2049, 1944, 1944, 2049, 1894, 1894, 1894, 1924, 2049], 'level': [1, 2, 3, 4, 5, 5, 3, 4, 5, 5, 3, 4, 5, 3, 4, 5, 5, 3, 4, 5, 5, 3, 4, 5, 5, 5, 5, 4, 5, 5, 3, 4, 5, 5, 5, 2, 3, 4, 5, 5, 5, 4, 5, 5, 5, 4, 5, 5, 5, 2, 3, 4, 5, 5, 5, 4, 5, 5, 5, 2, 3, 4, 5, 4, 5, 4, 5, 3, 4, 5, 5, 4, 5, 5, 4, 5, 4, 5, 2, 3, 4, 5, 4, 5, 4, 5, 2, 3, 4, 5, 4, 5, 2, 3, 4, 5, 5, 5, 4, 5, 5, 4, 5, 5, 3, 4, 5, 5, 5, 4, 5, 5, 4, 5, 5, 4, 5, 5, 3, 4, 5, 5, 5], 'line_num': [0, 0, 0, 1, 1, 1, 0, 1, 1, 1, 0, 1, 1, 0, 1, 1, 1, 0, 1, 1, 1, 0, 1, 1, 1, 1, 1, 2, 2, 2, 0, 1, 1, 1, 1, 0, 0, 1, 1, 1, 1, 2, 2, 2, 2, 3, 3, 3, 3, 0, 0, 1, 1, 1, 1, 2, 2, 2, 2, 0, 0, 1, 1, 2, 2, 3, 3, 0, 1, 1, 1, 2, 2, 2, 3, 3, 4, 4, 0, 0, 1, 1, 2, 2, 3, 3, 0, 0, 1, 1, 2, 2, 0, 0, 1, 1, 1, 1, 2, 2, 2, 3, 3, 3, 0, 1, 1, 1, 1, 2, 2, 2, 3, 3, 3, 4, 4, 4, 0, 1, 1, 1, 1], 'page_num': [1, 1, 1, 1, 1, 1, 1, 1, 1, 1, 1, 1, 1, 1, 1, 1, 1, 1, 1, 1, 1, 1, 1, 1, 1, 1, 1, 1, 1, 1, 1, 1, 1, 1, 1, 1, 1, 1, 1, 1, 1, 1, 1, 1, 1, 1, 1, 1, 1, 1, 1, 1, 1, 1, 1, 1, 1, 1, 1, 1, 1, 1, 1, 1, 1, 1, 1, 1, 1, 1, 1, 1, 1, 1, 1, 1, 1, 1, 1, 1, 1, 1, 1, 1, 1, 1, 1, 1, 1, 1, 1, 1, 1, 1, 1, 1, 1, 1, 1, 1, 1, 1, 1, 1, 1, 1, 1, 1, 1, 1, 1, 1, 1, 1, 1, 1, 1, 1, 1, 1, 1, 1, 1], 'par_num': [0, 0, 1, 1, 1, 1, 2, 2, 2, 2, 3, 3, 3, 4, 4, 4, 4, 5, 5, 5, 5, 6, 6, 6, 6, 6, 6, 6, 6, 6, 7, 7, 7, 7, 7, 0, 1, 1, 1, 1, 1, 1, 1, 1, 1, 1, 1, 1, 1, 0, 1, 1, 1, 1, 1, 1, 1, 1, 1, 0, 1, 1, 1, 1, 1, 1, 1, 2, 2, 2, 2, 2, 2, 2, 2, 2, 2, 2, 0, 1, 1, 1, 1, 1, 1, 1, 0, 1, 1, 1, 1, 1, 0, 1, 1, 1, 1, 1, 1, 1, 1, 1, 1, 1, 2, 2, 2, 2, 2, 2, 2, 2, 2, 2, 2, 2, 2, 2, 3, 3, 3, 3, 3], 'text': ['', '', '', '', 'Rörligt/avropat', 'elpris', '', '', 'SVK', 'Avgifter', '', '', 'Elcertifikatavgift', '', '', 'Månadens', 'förvaltningsresultat', '', '', 'Fast', 'förvaltningsavgift', '', '', 'Månadens', 'handelsavgift', 'säkrad', 'volym', '', 'Ursprungsmärkt', 'EL', '', '', 'Moms', '25,00', '%', '', '', '', '11', '734', 'kWh', '', '11', '734', 'kWh', '', '11', '734', 'kWh', '', '', '', '6', '747', 'kWh', '', '11', '734', 'kWh', '', '', '', '0,67649', '', '0,00984', '', '0,00600', '', '', '-1', '917,91855', '', '1', '500,00000', '', '0,00050', '', '0,00450', '', '', '', 'SEK/kWh', '', 'SEK/kWh', '', 'SEK/kWh', '', '', '', 'SEK/kWh', '', 'SEK/kWh', '', '', '', '7', '937,94', 'SEK', '', '115,46', 'SEK', '', '70,40', 'SEK', '', '', '-1', '917,92', 'SEK', '', '2,94', 'SEK', '', '3,37', 'SEK', '', '52,80', 'SEK', '', '', '1', '566,26', 'SEK'], 'top': [0, 13, 13, 13, 13, 13, 59, 59, 59, 59, 106, 106, 106, 151, 151, 151, 153, 199, 199, 199, 199, 244, 244, 244, 246, 246, 246, 292, 292, 292, 339, 339, 339, 339, 339, 13, 13, 13, 13, 13, 13, 59, 59, 59, 59, 106, 106, 106, 106, 246, 246, 246, 246, 246, 246, 292, 292, 292, 292, 13, 13, 13, 13, 59, 59, 106, 106, 153, 153, 153, 153, 199, 199, 199, 246, 246, 292, 292, 13, 13, 13, 13, 59, 59, 106, 106, 246, 246, 246, 246, 292, 292, 13, 13, 13, 13, 13, 13, 59, 59, 59, 106, 106, 106, 153, 153, 153, 153, 153, 199, 199, 199, 246, 246, 246, 292, 292, 292, 339, 339, 339, 339, 339], 'width': [2152, 634, 340, 340, 241, 87, 211, 211, 73, 127, 260, 260, 260, 497, 497, 171, 314, 362, 362, 70, 281, 633, 633, 171, 218, 108, 95, 319, 264, 42, 245, 245, 98, 91, 29, 193, 193, 193, 31, 59, 70, 193, 31, 59, 70, 193, 31, 59, 70, 193, 193, 175, 18, 59, 70, 193, 31, 59, 70, 218, 132, 132, 132, 132, 132, 132, 132, 218, 218, 25, 174, 203, 10, 174, 132, 132, 132, 132, 156, 156, 156, 156, 156, 156, 156, 156, 156, 156, 156, 156, 156, 156, 243, 230, 230, 18, 111, 73, 196, 109, 73, 178, 91, 73, 243, 243, 26, 111, 73, 157, 70, 73, 157, 70, 73, 178, 91, 73, 228, 228, 11, 111, 73], 'word_num': [0, 0, 0, 0, 1, 2, 0, 0, 1, 2, 0, 0, 1, 0, 0, 1, 2, 0, 0, 1, 2, 0, 0, 1, 2, 3, 4, 0, 1, 2, 0, 0, 1, 2, 3, 0, 0, 0, 1, 2, 3, 0, 1, 2, 3, 0, 1, 2, 3, 0, 0, 0, 1, 2, 3, 0, 1, 2, 3, 0, 0, 0, 1, 0, 1, 0, 1, 0, 0, 1, 2, 0, 1, 2, 0, 1, 0, 1, 0, 0, 0, 1, 0, 1, 0, 1, 0, 0, 0, 1, 0, 1, 0, 0, 0, 1, 2, 3, 0, 1, 2, 0, 1, 2, 0, 0, 1, 2, 3, 0, 1, 2, 0, 1, 2, 0, 1, 2, 0, 0, 1, 2, 3]}}\n"
     ]
    }
   ],
   "source": []
  },
  {
   "cell_type": "code",
   "execution_count": 117,
   "metadata": {},
   "outputs": [],
   "source": [
    "\n",
    "fd_col_end_pattern = r\"^\\d.*(kWh|st|Stk)$\"\n",
    "filter_patterns = [\"\\x0c\", \"\\f\", \"\\v\", \"\\x0b\", None, \"\"]#,\"SEK/kWh\"]\n",
    "m_patterns =   { \"customerId\" : r\"\\d{6}\" , \"invoiceNumber\" :  r\"\\d{10}\"}\n",
    "fm2_pattern = r\"\\d{8}\"\n",
    "fm1_patterns = {\"facilityId\" : r\".*ingsID.*\", 'address' : r\".*gsadress.*\"}"
   ]
  },
  {
   "cell_type": "code",
   "execution_count": 118,
   "metadata": {},
   "outputs": [],
   "source": [
    "\n",
    "class FD:\n",
    "    def __init__(\n",
    "        self, text, col_end_pattern=fd_col_end_pattern, filter_patterns=filter_patterns,debug=False\n",
    "    ):\n",
    "        self.text = text\n",
    "        self.filter_patterns = filter_patterns\n",
    "        self.col_end_pattern = col_end_pattern\n",
    "        self.app_context = {}\n",
    "        self.data = {'invoiceRows': []}\n",
    "        self.debug = debug\n",
    "\n",
    "    def process_layout(self):\n",
    "\n",
    "        self.app_context[\"lines\"] = [\n",
    "            line for line in self.text.split(\"\\n\") if line not in self.filter_patterns\n",
    "        ]\n",
    "        if self.debug :\n",
    "            print(self.app_context[\"lines\"])\n",
    "        if len(self.app_context[\"lines\"]) > 1 :\n",
    "            self.partition_columns()\n",
    "        elif len(self.app_context[\"lines\"]) == 1:\n",
    "            #if last line is Vat\n",
    "            if \"Moms\" in self.app_context[\"lines\"][0]:\n",
    "                self.map_single_line_vat()\n",
    "            else :\n",
    "                self.map_single_line(self.app_context['lines'][0])\n",
    "\n",
    "        return self.data\n",
    "\n",
    "    def partition_columns(self):\n",
    "        if self.is_incomplete():\n",
    "            return self.partial_parition()\n",
    "        return self.complete_partitiion()\n",
    "\n",
    "    def is_incomplete(self):\n",
    "\n",
    "        \"\"\"\n",
    "        For Skellefteå Kraft if Moms(VAT) is not the last row of first column then the block is incomplete\n",
    "        \"\"\"\n",
    "        if \"Moms 25,00 %\" in self.text:\n",
    "            return False\n",
    "        if self.debug:\n",
    "            print('fd is incomplete')\n",
    "        return True\n",
    "\n",
    "    def complete_partitiion(self):\n",
    "        \n",
    "        row_count = self.app_context[\"col_end_index\"] - 1\n",
    "        start = 0\n",
    "        first_col = self.app_context[\"lines\"][start : start + row_count]\n",
    "        start = row_count + 1\n",
    "        second_col = self.app_context[\"lines\"][start : start + row_count]\n",
    "        start += row_count\n",
    "        third_col = self.app_context[\"lines\"][start : start + row_count]\n",
    "        start += row_count\n",
    "        fourth_col = self.app_context[\"lines\"][start : start + row_count]\n",
    "        \n",
    "        self.data['c1'] = first_col\n",
    "        self.data['c2'] = second_col\n",
    "        self.data['c3'] = third_col\n",
    "        self.data['c4'] = fourth_col\n",
    "\n",
    "        self.data[\"invoiceRows\"] += self.map_cols(\n",
    "            first_col, second_col, third_col, fourth_col\n",
    "        )\n",
    "        self.data[\"VAT\"] = self.app_context[\"lines\"][-1]\n",
    "\n",
    "\n",
    "\n",
    "    def partial_parition(self):\n",
    "        return self.data\n",
    "\n",
    "    def map_cols(self, col_1, col_2, col_3, col_4):\n",
    "        mapped_cols = []\n",
    "        for index in range(len(col_1)):\n",
    "            unit = \"\"\n",
    "            if \"kWh\"  in col_2[index]:\n",
    "                unit = \" SEK/kWh\"\n",
    "            mapped_cols.append(\n",
    "                {\n",
    "                    \"text\": col_1[index],\n",
    "                    \"spec\": \"{} {}{}\".format(col_2[index], col_3[index], unit),\n",
    "                    \"value\": col_3[index],\n",
    "                }\n",
    "            )\n",
    "        return mapped_cols\n",
    "\n",
    "    def map_single_line(self,line):\n",
    "\n",
    "        lines =  line.split()\n",
    "        print(lines)\n",
    "\n",
    "        col_index = find_pattern_index(\n",
    "                lines, self.col_end_pattern\n",
    "            )\n",
    "        unit = \"\"\n",
    "        if \"kWh\"  in lines[col_index]:\n",
    "            unit = \" SEK/kWh\"\n",
    "        row = {\n",
    "                        \"text\": ' '.join(lines[:col_index]),\n",
    "                        \"spec\": \"{} {}{}\".format(lines[col_index], lines[col_index +1], unit),\n",
    "                        \"value\": ' '.join(lines[-2: ]),\n",
    "                    }\n",
    "        self.data['invoiceRows'].append(row)\n",
    "\n",
    "    def map_single_line_vat(self):\n",
    "        return {'VAT' : self.app_context['lines'][0].split('% ')[1]}"
   ]
  },
  {
   "cell_type": "code",
   "execution_count": null,
   "metadata": {},
   "outputs": [],
   "source": [
    "p = FD(text,debug=True)\n",
    "p.process_layout()"
   ]
  },
  {
   "cell_type": "code",
   "execution_count": 311,
   "metadata": {},
   "outputs": [],
   "source": [
    "import pandas as pd"
   ]
  },
  {
   "cell_type": "code",
   "execution_count": 312,
   "metadata": {},
   "outputs": [],
   "source": [
    "json_path = '/home/dhiraj/ocr/Mestro/data/testing/service_output/run_3/fine/faktura-30154584913 (1).json'\n",
    "with open(json_path) as jp:\n",
    "    data = json.load(jp)"
   ]
  },
  {
   "cell_type": "code",
   "execution_count": 313,
   "metadata": {},
   "outputs": [
    {
     "name": "stdout",
     "output_type": "stream",
     "text": [
      "fd\n"
     ]
    }
   ],
   "source": [
    "\n",
    "layout_index = 5\n",
    "print(data['data'][layout_index]['class'])\n",
    "text = data['data'][layout_index]['text']"
   ]
  },
  {
   "cell_type": "code",
   "execution_count": 314,
   "metadata": {},
   "outputs": [],
   "source": [
    "def sort_regions(text_df, sorted_text,line_id):\n",
    "\n",
    "    line_id += 1\n",
    "    check_y = text_df.iloc[0]['top']\n",
    "    spacing_threshold = text_df.iloc[0]['height']  *0.5\n",
    "\n",
    "    same_line = text_df[abs(text_df['top'] - check_y) < spacing_threshold]\n",
    "    next_lines = text_df[abs(text_df['top'] - check_y) >= spacing_threshold]\n",
    "\n",
    "    sort_lines = same_line.sort_values(by=['left'])\n",
    "    sort_lines['id'] = line_id\n",
    "    sorted_text.append(sort_lines)\n",
    "    if len(next_lines) > 0:\n",
    "        sort_regions(next_lines, sorted_text,line_id)\n",
    "\n",
    "    return sorted_text\n"
   ]
  },
  {
   "cell_type": "code",
   "execution_count": 315,
   "metadata": {},
   "outputs": [],
   "source": [
    "fd_col2_pattern = r\"^(kWh|st|Stk|SEK/kWh)$\""
   ]
  },
  {
   "cell_type": "code",
   "execution_count": 339,
   "metadata": {},
   "outputs": [],
   "source": [
    "class FD:\n",
    "    def __init__(\n",
    "        self, text, fd_col2_pattern=fd_col2_pattern, filter_patterns=filter_patterns,debug=False\n",
    "    ):\n",
    "        self.text_df = pd.DataFrame(text)\n",
    "        self.fd_col2_pattern = fd_col2_pattern\n",
    "        self.data = {'invoiceRows': [] , 'VAT':None}\n",
    "        self.debug = debug\n",
    "\n",
    "    def process_layout(self):\n",
    "        self.text_df = self.text_df[self.text_df['text'] != '']\n",
    "        if len(self.text_df) > 0 :\n",
    "            self.text_df = self.text_df.sort_values(by=['top'])\n",
    "            self.sorted_rows = sort_regions(self.text_df, [],line_id = 0)\n",
    "        else :\n",
    "            self.sorted_rows = [self.text_df]\n",
    " \n",
    "        if self.debug :\n",
    "            [ print( ' '.join(row['text'].values) + '\\n') for row in self.sorted_rows]\n",
    "\n",
    "        self.partition_columns()\n",
    "       \n",
    "        return self.data\n",
    "\n",
    "    def partition_columns(self):\n",
    "        \n",
    "        for row in self.sorted_rows :\n",
    "            if 'Moms' in row['text'].values :\n",
    "                self.data['VAT'] = self.extract_vat(row)\n",
    "            else :\n",
    "                self.data['invoiceRows'].append(self.map_fd(row))\n",
    "\n",
    "\n",
    "    def extract_vat(self,row):\n",
    "        split_index = find_pattern_index(list(row.text.values), r\"%\")\n",
    "        return ' '.join(row['text'].values[split_index +1:])\n",
    "\n",
    "    def map_fd(self,row):\n",
    "        t_list = list(row.text.values)\n",
    "        rectified_list = []\n",
    "        index = 0\n",
    "        # rectifing the cases where a nubmer is borken due to space between digits \n",
    "        while index < len(t_list):\n",
    "            if t_list[index].lstrip('-').isnumeric() and  len(t_list[index].lstrip('-')) < 2  :\n",
    "                rectified_list.append( ' '.join(t_list[index:index +2]))\n",
    "                index += 2 \n",
    "            else :   \n",
    "                rectified_list.append(t_list[index])\n",
    "                index +=1\n",
    "        col2_index = find_pattern_index(rectified_list,self.fd_col2_pattern,index=False)\n",
    "        print(col2_index)\n",
    "        print(rectified_list)\n",
    "\n",
    "        if col2_index is None :\n",
    "            return {'text': ' '.join(rectified_list[:-3]),\n",
    "            \"spec\" : rectified_list[-3],\n",
    "            \"value\" : ' '.join(rectified_list[-2:]) }\n",
    "        else :\n",
    "            if col2_index == in ['st','Stk']:\n",
    "                \n",
    "                return{'text': ' '.join(rectified_list[:-5]),\n",
    "            \"spec\" : ' '.join(rectified_list[-5:-2]),\n",
    "            \"value\" : ' '.join(rectified_list[-2:]) }\n",
    "            \n",
    "            else :\n",
    "                return{'text': ' '.join(rectified_list[:-6]),\n",
    "            \"spec\" : ' '.join(rectified_list[-6:-2]),\n",
    "            \"value\" : ' '.join(rectified_list[-2:]) }\n",
    "            \n",
    "    \n"
   ]
  },
  {
   "cell_type": "code",
   "execution_count": 340,
   "metadata": {},
   "outputs": [
    {
     "name": "stdout",
     "output_type": "stream",
     "text": [
      "Månadens förvaltningsresultat 1,00000 kWh -9,38338 SEK/kWh -9,38 SEK\n",
      "\n",
      "Fast förvaltningsavgift 1,00000 st 0,01000 0,01 SEK\n",
      "\n",
      "Månadens handelsavgift säkrad volym 15,00000 kWh 0,00051 SEK/kWh 0,01 SEK\n",
      "\n",
      "Rörligt elpris 30 kWh 0,97104 SEK/kWh 29,13 SEK\n",
      "\n",
      "SVK Avgifter 30,00000 kWh 0,00984 SEK/kWh 0,30 SEK\n",
      "\n",
      "Ursprungsmärkt EL 30,00000 kWh 0,00450 SEK/kWh 0,14 SEK\n",
      "\n",
      "Moms 25,00 % 5,06 SEK\n",
      "\n",
      "kWh\n",
      "['Månadens', 'förvaltningsresultat', '1,00000', 'kWh', '-9,38338', 'SEK/kWh', '-9,38', 'SEK']\n",
      "st\n",
      "['Fast', 'förvaltningsavgift', '1,00000', 'st', '0,01000', '0,01', 'SEK']\n",
      "kWh\n",
      "['Månadens', 'handelsavgift', 'säkrad', 'volym', '15,00000', 'kWh', '0,00051', 'SEK/kWh', '0,01', 'SEK']\n",
      "kWh\n",
      "['Rörligt', 'elpris', '30', 'kWh', '0,97104', 'SEK/kWh', '29,13', 'SEK']\n",
      "kWh\n",
      "['SVK', 'Avgifter', '30,00000', 'kWh', '0,00984', 'SEK/kWh', '0,30', 'SEK']\n",
      "kWh\n",
      "['Ursprungsmärkt', 'EL', '30,00000', 'kWh', '0,00450', 'SEK/kWh', '0,14', 'SEK']\n"
     ]
    },
    {
     "data": {
      "text/plain": [
       "{'invoiceRows': [{'text': 'Månadens förvaltningsresultat',\n",
       "   'spec': '1,00000 kWh -9,38338 SEK/kWh',\n",
       "   'value': '-9,38 SEK'},\n",
       "  {'text': 'Fast förvaltningsavgift',\n",
       "   'spec': '1,00000 st 0,01000',\n",
       "   'value': '0,01 SEK'},\n",
       "  {'text': 'Månadens handelsavgift säkrad volym',\n",
       "   'spec': '15,00000 kWh 0,00051 SEK/kWh',\n",
       "   'value': '0,01 SEK'},\n",
       "  {'text': 'Rörligt elpris',\n",
       "   'spec': '30 kWh 0,97104 SEK/kWh',\n",
       "   'value': '29,13 SEK'},\n",
       "  {'text': 'SVK Avgifter',\n",
       "   'spec': '30,00000 kWh 0,00984 SEK/kWh',\n",
       "   'value': '0,30 SEK'},\n",
       "  {'text': 'Ursprungsmärkt EL',\n",
       "   'spec': '30,00000 kWh 0,00450 SEK/kWh',\n",
       "   'value': '0,14 SEK'}],\n",
       " 'VAT': '5,06 SEK'}"
      ]
     },
     "execution_count": 340,
     "metadata": {},
     "output_type": "execute_result"
    }
   ],
   "source": [
    "p = FD(text,debug=True)\n",
    "p.process_layout()"
   ]
  },
  {
   "cell_type": "code",
   "execution_count": null,
   "metadata": {},
   "outputs": [],
   "source": []
  },
  {
   "cell_type": "code",
   "execution_count": 319,
   "metadata": {},
   "outputs": [
    {
     "data": {
      "text/html": [
       "<div>\n",
       "<style scoped>\n",
       "    .dataframe tbody tr th:only-of-type {\n",
       "        vertical-align: middle;\n",
       "    }\n",
       "\n",
       "    .dataframe tbody tr th {\n",
       "        vertical-align: top;\n",
       "    }\n",
       "\n",
       "    .dataframe thead th {\n",
       "        text-align: right;\n",
       "    }\n",
       "</style>\n",
       "<table border=\"1\" class=\"dataframe\">\n",
       "  <thead>\n",
       "    <tr style=\"text-align: right;\">\n",
       "      <th></th>\n",
       "      <th>block_num</th>\n",
       "      <th>conf</th>\n",
       "      <th>height</th>\n",
       "      <th>left</th>\n",
       "      <th>level</th>\n",
       "      <th>line_num</th>\n",
       "      <th>page_num</th>\n",
       "      <th>par_num</th>\n",
       "      <th>text</th>\n",
       "      <th>top</th>\n",
       "      <th>width</th>\n",
       "      <th>word_num</th>\n",
       "      <th>id</th>\n",
       "    </tr>\n",
       "  </thead>\n",
       "  <tbody>\n",
       "    <tr>\n",
       "      <th>8</th>\n",
       "      <td>1</td>\n",
       "      <td>93</td>\n",
       "      <td>27</td>\n",
       "      <td>39</td>\n",
       "      <td>5</td>\n",
       "      <td>1</td>\n",
       "      <td>1</td>\n",
       "      <td>2</td>\n",
       "      <td>Fast</td>\n",
       "      <td>61</td>\n",
       "      <td>70</td>\n",
       "      <td>1</td>\n",
       "      <td>2</td>\n",
       "    </tr>\n",
       "    <tr>\n",
       "      <th>9</th>\n",
       "      <td>1</td>\n",
       "      <td>91</td>\n",
       "      <td>35</td>\n",
       "      <td>120</td>\n",
       "      <td>5</td>\n",
       "      <td>1</td>\n",
       "      <td>1</td>\n",
       "      <td>2</td>\n",
       "      <td>förvaltningsavgift</td>\n",
       "      <td>61</td>\n",
       "      <td>281</td>\n",
       "      <td>2</td>\n",
       "      <td>2</td>\n",
       "    </tr>\n",
       "    <tr>\n",
       "      <th>38</th>\n",
       "      <td>2</td>\n",
       "      <td>96</td>\n",
       "      <td>32</td>\n",
       "      <td>918</td>\n",
       "      <td>5</td>\n",
       "      <td>2</td>\n",
       "      <td>1</td>\n",
       "      <td>1</td>\n",
       "      <td>1,00000</td>\n",
       "      <td>61</td>\n",
       "      <td>130</td>\n",
       "      <td>1</td>\n",
       "      <td>2</td>\n",
       "    </tr>\n",
       "    <tr>\n",
       "      <th>39</th>\n",
       "      <td>2</td>\n",
       "      <td>95</td>\n",
       "      <td>26</td>\n",
       "      <td>1061</td>\n",
       "      <td>5</td>\n",
       "      <td>2</td>\n",
       "      <td>1</td>\n",
       "      <td>1</td>\n",
       "      <td>st</td>\n",
       "      <td>62</td>\n",
       "      <td>28</td>\n",
       "      <td>2</td>\n",
       "      <td>2</td>\n",
       "    </tr>\n",
       "    <tr>\n",
       "      <th>58</th>\n",
       "      <td>3</td>\n",
       "      <td>96</td>\n",
       "      <td>32</td>\n",
       "      <td>1234</td>\n",
       "      <td>5</td>\n",
       "      <td>2</td>\n",
       "      <td>1</td>\n",
       "      <td>1</td>\n",
       "      <td>0,01000</td>\n",
       "      <td>61</td>\n",
       "      <td>132</td>\n",
       "      <td>1</td>\n",
       "      <td>2</td>\n",
       "    </tr>\n",
       "    <tr>\n",
       "      <th>78</th>\n",
       "      <td>4</td>\n",
       "      <td>96</td>\n",
       "      <td>32</td>\n",
       "      <td>1958</td>\n",
       "      <td>5</td>\n",
       "      <td>2</td>\n",
       "      <td>1</td>\n",
       "      <td>1</td>\n",
       "      <td>0,01</td>\n",
       "      <td>61</td>\n",
       "      <td>65</td>\n",
       "      <td>1</td>\n",
       "      <td>2</td>\n",
       "    </tr>\n",
       "    <tr>\n",
       "      <th>79</th>\n",
       "      <td>4</td>\n",
       "      <td>95</td>\n",
       "      <td>27</td>\n",
       "      <td>2042</td>\n",
       "      <td>5</td>\n",
       "      <td>2</td>\n",
       "      <td>1</td>\n",
       "      <td>1</td>\n",
       "      <td>SEK</td>\n",
       "      <td>61</td>\n",
       "      <td>73</td>\n",
       "      <td>2</td>\n",
       "      <td>2</td>\n",
       "    </tr>\n",
       "  </tbody>\n",
       "</table>\n",
       "</div>"
      ],
      "text/plain": [
       "    block_num conf  height  left  level  line_num  page_num  par_num  \\\n",
       "8           1   93      27    39      5         1         1        2   \n",
       "9           1   91      35   120      5         1         1        2   \n",
       "38          2   96      32   918      5         2         1        1   \n",
       "39          2   95      26  1061      5         2         1        1   \n",
       "58          3   96      32  1234      5         2         1        1   \n",
       "78          4   96      32  1958      5         2         1        1   \n",
       "79          4   95      27  2042      5         2         1        1   \n",
       "\n",
       "                  text  top  width  word_num  id  \n",
       "8                 Fast   61     70         1   2  \n",
       "9   förvaltningsavgift   61    281         2   2  \n",
       "38             1,00000   61    130         1   2  \n",
       "39                  st   62     28         2   2  \n",
       "58             0,01000   61    132         1   2  \n",
       "78                0,01   61     65         1   2  \n",
       "79                 SEK   61     73         2   2  "
      ]
     },
     "execution_count": 319,
     "metadata": {},
     "output_type": "execute_result"
    }
   ],
   "source": [
    "row = p.sorted_rows[1]\n",
    "row"
   ]
  },
  {
   "cell_type": "code",
   "execution_count": 294,
   "metadata": {},
   "outputs": [
    {
     "name": "stdout",
     "output_type": "stream",
     "text": [
      "Error in finding pattern list index out of range\n"
     ]
    }
   ],
   "source": [
    "find_pattern_index(list(p.sorted_rows[-1].text.values),r\"%\")"
   ]
  },
  {
   "cell_type": "code",
   "execution_count": 320,
   "metadata": {},
   "outputs": [
    {
     "name": "stdout",
     "output_type": "stream",
     "text": [
      "['Fast', 'förvaltningsavgift', '1,00000', 'st', '0,01000', '0,01', 'SEK']\n"
     ]
    }
   ],
   "source": [
    "t_list = list(row.text.values)\n",
    "rectified_list = []\n",
    "index = 0\n",
    "while index < len(t_list):\n",
    "    if t_list[index].lstrip('-').isnumeric() and  len(t_list[index].lstrip('-')) < 2  :\n",
    "        rectified_list.append( ' '.join(t_list[index:index +2]))\n",
    "        index += 2 \n",
    "    else :   \n",
    "        rectified_list.append(t_list[index])\n",
    "        index +=1\n",
    "\n",
    "print(rectified_list)"
   ]
  },
  {
   "cell_type": "code",
   "execution_count": 321,
   "metadata": {},
   "outputs": [
    {
     "data": {
      "text/plain": [
       "'st'"
      ]
     },
     "execution_count": 321,
     "metadata": {},
     "output_type": "execute_result"
    }
   ],
   "source": [
    "fd_col2_pattern = r\"^(kWh|st|Stk|SEK/kWh)$\"\n",
    "col2_index = find_pattern_index(rectified_list,fd_col2_pattern,index=False)\n",
    "\n",
    "col2_index"
   ]
  },
  {
   "cell_type": "code",
   "execution_count": 232,
   "metadata": {},
   "outputs": [
    {
     "data": {
      "text/plain": [
       "array(['Månadens', 'förvaltningsresultat', '-1', '380,49600', '-1',\n",
       "       '380,50', 'SEK'], dtype=object)"
      ]
     },
     "execution_count": 232,
     "metadata": {},
     "output_type": "execute_result"
    }
   ],
   "source": []
  },
  {
   "cell_type": "code",
   "execution_count": 157,
   "metadata": {},
   "outputs": [
    {
     "name": "stdout",
     "output_type": "stream",
     "text": [
      "['7 660,25 SEK', '98,02 SEK', '59,77 SEK', '-1 628,12 SEK', '2,50 SEK', '2,86 SEK', '44,82 SEK'] ['0,00050', '0,00450', 'SEK/kWh', 'SEK/kWh', 'SEK/kWh', 'SEK/kWh', 'SEK/kWh']\n"
     ]
    }
   ],
   "source": [
    "#when Vat is present\n",
    "fd_last_col = r\"^\\d.*(SEK)$\"\n",
    "start,end = find_pattern_index(lines,fd_last_col), find_pattern_index(lines,fd_last_col,last=True)\n",
    "\n",
    "if start is not None:\n",
    "    if start != end :\n",
    "        mapping_logic_1(lines,start,end)\n",
    "\n",
    "    \n",
    "    else :\n",
    "        value = lines[start]\n",
    "        mappint_logic_2()\n",
    "else :\n",
    "    mapping_logic_3()\n"
   ]
  },
  {
   "cell_type": "code",
   "execution_count": 156,
   "metadata": {},
   "outputs": [],
   "source": [
    "def mapping_logic_1(lines,start,end):\n",
    "    col_length = end - start\n",
    "    col_4 = lines[start:start + col_length]\n",
    "    col_3 = lines[start-col_length: start]\n",
    "    print(col_4,col_3)\n",
    "\n",
    "def mapping_logic_2():\n",
    "    pass\n",
    "\n",
    "def mapping_logic_3():\n",
    "    pass"
   ]
  },
  {
   "cell_type": "code",
   "execution_count": null,
   "metadata": {},
   "outputs": [],
   "source": []
  },
  {
   "cell_type": "code",
   "execution_count": null,
   "metadata": {},
   "outputs": [],
   "source": []
  },
  {
   "cell_type": "code",
   "execution_count": null,
   "metadata": {},
   "outputs": [],
   "source": []
  },
  {
   "cell_type": "code",
   "execution_count": null,
   "metadata": {},
   "outputs": [],
   "source": []
  },
  {
   "cell_type": "code",
   "execution_count": 64,
   "metadata": {},
   "outputs": [
    {
     "data": {
      "text/plain": [
       "['Månadens förvaltningsresultat',\n",
       " 'Fast förvaltningsavgift',\n",
       " 'Månadens handelsavgift säkrad volym',\n",
       " 'Rörligt elpris',\n",
       " 'SVK Avgifter',\n",
       " 'Ursprungsmärkt EL']"
      ]
     },
     "execution_count": 64,
     "metadata": {},
     "output_type": "execute_result"
    }
   ],
   "source": [
    "p.data['c1']"
   ]
  },
  {
   "cell_type": "code",
   "execution_count": 65,
   "metadata": {},
   "outputs": [
    {
     "data": {
      "text/plain": [
       "['1 181 kWh',\n",
       " '2 053 kWh',\n",
       " '2 053 kWh',\n",
       " '2 053 kWh',\n",
       " '-335,56219',\n",
       " '1 500,00000']"
      ]
     },
     "execution_count": 65,
     "metadata": {},
     "output_type": "execute_result"
    }
   ],
   "source": [
    "p.data['c2']"
   ]
  },
  {
   "cell_type": "code",
   "execution_count": 66,
   "metadata": {},
   "outputs": [
    {
     "data": {
      "text/plain": [
       "['0,00050 SEK/kWh',\n",
       " '0,71202 SEK/kWh',\n",
       " '0,00984 SEK/kWh',\n",
       " '0,00450 SEK/kWh',\n",
       " '-335,56 SEK',\n",
       " '0,51 SEK']"
      ]
     },
     "execution_count": 66,
     "metadata": {},
     "output_type": "execute_result"
    }
   ],
   "source": [
    "p.data['c3']"
   ]
  },
  {
   "cell_type": "code",
   "execution_count": 50,
   "metadata": {},
   "outputs": [
    {
     "data": {
      "text/plain": [
       "['0,59 SEK', '1461,78 SEK', '20,20 SEK', '9,24 SEK', '289,20 SEK']"
      ]
     },
     "execution_count": 50,
     "metadata": {},
     "output_type": "execute_result"
    }
   ],
   "source": [
    "p.data['c4']"
   ]
  },
  {
   "cell_type": "code",
   "execution_count": 57,
   "metadata": {},
   "outputs": [],
   "source": [
    "text = 'Månadens förvaltningsresultat\\n\\nFast förvaltningsavgift\\n\\nMånadens handelsavgift säkrad volym\\nRörligt elpris\\n\\nSVK Avgifter\\n\\nUrsprungsmärkt EL\\n\\nMoms 25,00 %\\n\\n1 181 kWh\\n2 053 kWh\\n2 053 kWh\\n2 053 kWh\\n\\n-335,56219\\n\\n1 500,00000\\n0,00050 SEK/kWh\\n0,71202 SEK/kWh\\n0,00984 SEK/kWh\\n0,00450 SEK/kWh\\n\\n-335,56 SEK\\n0,51 SEK\\n0,59 SEK\\n1461,78 SEK\\n20,20 SEK\\n9,24 SEK\\n\\n289,20 SEK\\n\\x0c'"
   ]
  },
  {
   "cell_type": "code",
   "execution_count": 68,
   "metadata": {},
   "outputs": [
    {
     "data": {
      "text/plain": [
       "['Månadens förvaltningsresultat',\n",
       " 'Fast förvaltningsavgift',\n",
       " 'Månadens handelsavgift säkrad volym',\n",
       " 'Rörligt elpris',\n",
       " 'SVK Avgifter',\n",
       " 'Ursprungsmärkt EL',\n",
       " 'Moms 25,00 %',\n",
       " '1 181 kWh',\n",
       " '2 053 kWh',\n",
       " '2 053 kWh',\n",
       " '2 053 kWh',\n",
       " '-335,56219',\n",
       " '1 500,00000',\n",
       " '0,00050 SEK/kWh',\n",
       " '0,71202 SEK/kWh',\n",
       " '0,00984 SEK/kWh',\n",
       " '0,00450 SEK/kWh',\n",
       " '-335,56 SEK',\n",
       " '0,51 SEK',\n",
       " '0,59 SEK',\n",
       " '1461,78 SEK',\n",
       " '20,20 SEK',\n",
       " '9,24 SEK',\n",
       " '289,20 SEK']"
      ]
     },
     "execution_count": 68,
     "metadata": {},
     "output_type": "execute_result"
    }
   ],
   "source": [
    "filter_patterns =  [\"\\x0c\", \"\\f\", \"\\v\", \"\\x0b\", None, \"\",\"SEK/kWh\"]\n",
    "\n",
    "\n",
    "[\n",
    "            line for line in text.split(\"\\n\") if line not in filter_patterns\n",
    "        ]"
   ]
  },
  {
   "cell_type": "code",
   "execution_count": null,
   "metadata": {},
   "outputs": [],
   "source": []
  },
  {
   "cell_type": "code",
   "execution_count": null,
   "metadata": {},
   "outputs": [],
   "source": []
  },
  {
   "cell_type": "code",
   "execution_count": null,
   "metadata": {},
   "outputs": [],
   "source": []
  },
  {
   "cell_type": "code",
   "execution_count": null,
   "metadata": {},
   "outputs": [],
   "source": []
  },
  {
   "cell_type": "code",
   "execution_count": null,
   "metadata": {},
   "outputs": [],
   "source": []
  },
  {
   "cell_type": "code",
   "execution_count": null,
   "metadata": {},
   "outputs": [],
   "source": []
  },
  {
   "cell_type": "code",
   "execution_count": 18,
   "metadata": {},
   "outputs": [],
   "source": [
    "text = 'Påminnelseavgift, 2021-09-07 1,00Stk 60,00 60,00 SEK'"
   ]
  },
  {
   "cell_type": "code",
   "execution_count": null,
   "metadata": {},
   "outputs": [],
   "source": [
    "['Månadens förvaltningsresultat 1,00000 kWh', 'Fast förvaltningsavgift 1,00000 st', 'Månadens handelsavgift säkrad volym 4 055,00000 kWh', 'Rörligt elpris 7 052 kWh', 'SVK Avgifter 7 052,00000 kWh', 'Ursprungsmärkt EL 7 052,00000 kWh', '-1 152,64715 SEK/kWh', '1,77000', '0,00050 SEK/kWh', '0,71202 SEK/kWh', '0,00984 SEK/kWh', '0,00450 SEK/kWh', '-1 152,65 SEK', '1,77 SEK', '2,03 SEK', '5 021,16 SEK', '69,39 SEK', '31,73 SEK'] LLLLLLLLLLLLLLLLLLLLLLLLLLLLLLLLLLLLL\n",
    "processing :  0\n",
    "processing :  1\n",
    "['Moms 25,00 % 993,37 SEK']"
   ]
  },
  {
   "cell_type": "code",
   "execution_count": 265,
   "metadata": {},
   "outputs": [],
   "source": [
    "text = 'Moms 25,00 % 993,37 SEK'"
   ]
  },
  {
   "cell_type": "code",
   "execution_count": 24,
   "metadata": {},
   "outputs": [
    {
     "name": "stdout",
     "output_type": "stream",
     "text": [
      "list index out of range\n"
     ]
    }
   ],
   "source": [
    "find_pattern_index(text,pattern=fd_col_end_pattern,index=False)"
   ]
  },
  {
   "cell_type": "code",
   "execution_count": null,
   "metadata": {},
   "outputs": [],
   "source": [
    "p.app_context['lines'] = ['Moms 25,00 % 993,37 SEK']"
   ]
  },
  {
   "cell_type": "code",
   "execution_count": 274,
   "metadata": {},
   "outputs": [
    {
     "data": {
      "text/plain": [
       "'993,37 SEK'"
      ]
     },
     "execution_count": 274,
     "metadata": {},
     "output_type": "execute_result"
    }
   ],
   "source": [
    "p.app_context['lines'][0].split('% ')[1]"
   ]
  },
  {
   "cell_type": "code",
   "execution_count": 269,
   "metadata": {},
   "outputs": [],
   "source": []
  },
  {
   "cell_type": "code",
   "execution_count": 250,
   "metadata": {},
   "outputs": [],
   "source": [
    "def map_single_line(self):\n",
    "    unit = \"\"\n",
    "    if \"kWh\"  in self.app_context['lines'][self.aself.self.app_context['col_end_index']]:\n",
    "        unit = \" SEK/kWh\"\n",
    "    return {{\n",
    "                    \"text\": ' '.join(self.app_context['lines'][: self.self.app_context['col_end_index']]),\n",
    "                    \"spec\": \"{} {}{}\".format(self.app_context['lines'][self.aself.self.app_context['col_end_index']], self.app_context['lines'][self.aself.self.app_context['col_end_index'] +1], unit),\n",
    "                    \"value\": ' '.join(self.app_context['lines'][-2: ]),\n",
    "                }}"
   ]
  },
  {
   "cell_type": "code",
   "execution_count": null,
   "metadata": {},
   "outputs": [],
   "source": []
  }
 ],
 "metadata": {
  "interpreter": {
   "hash": "22a641ff922a84ae8b189e4af5079ae0107f70765ba18e1eb321daf94954cd6b"
  },
  "kernelspec": {
   "display_name": "Python 3.8.10 64-bit ('prima': venv)",
   "language": "python",
   "name": "python3"
  },
  "language_info": {
   "codemirror_mode": {
    "name": "ipython",
    "version": 3
   },
   "file_extension": ".py",
   "mimetype": "text/x-python",
   "name": "python",
   "nbconvert_exporter": "python",
   "pygments_lexer": "ipython3",
   "version": "3.8.10"
  },
  "orig_nbformat": 4
 },
 "nbformat": 4,
 "nbformat_minor": 2
}

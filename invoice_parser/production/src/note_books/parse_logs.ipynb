{
 "cells": [
  {
   "cell_type": "code",
   "execution_count": 99,
   "metadata": {},
   "outputs": [],
   "source": [
    "import re\n",
    "import pandas as pd"
   ]
  },
  {
   "cell_type": "code",
   "execution_count": 100,
   "metadata": {},
   "outputs": [],
   "source": [
    "log_path = '/home/dhiraj/Documents/tarento_invoicing/production/base_dir/logs/2022-01-12_2e3f2519-2bb8-4042-ad2a-c0b64130a56b.logs'"
   ]
  },
  {
   "cell_type": "code",
   "execution_count": 117,
   "metadata": {},
   "outputs": [],
   "source": [
    "fast = '78388418-9459-4aae-81c0-4d7b49d4a7fc'\n",
    "acc = '1b243007-f57f-4c73-a14b-1e6173f9c219'"
   ]
  },
  {
   "cell_type": "code",
   "execution_count": 130,
   "metadata": {},
   "outputs": [],
   "source": [
    "def find_pattern(lis,pattern):\n",
    "    return [i for i in lis if re.findall(pattern, i)]\n",
    "    find_time = r'.*Time taken for.*'\n",
    "\n",
    "def time_df(job) :\n",
    "    logs = job.split('\\n')  \n",
    "    rows = []\n",
    "    for module_log in find_pattern(logs,find_time) :\n",
    "        module_name = module_log.split(':')[-1].split(' is ')[0]\n",
    "        module_time = module_log.split(':')[-1].split(' is ')[-1]\n",
    "        rows.append({'module': module_name, 'time': float(module_time)})\n",
    "    return rows\n",
    "\n",
    "def agg_logs(jobs):\n",
    "    logs = []\n",
    "    for job in jobs :\n",
    "        logs += time_df(job)\n",
    "    return logs"
   ]
  },
  {
   "cell_type": "code",
   "execution_count": null,
   "metadata": {},
   "outputs": [],
   "source": [
    "with open(log_path,'r') as log_file:\n",
    "    all_logs = log_file.read()\n",
    "jobs = all_logs.split(\"#### \\n\")"
   ]
  },
  {
   "cell_type": "code",
   "execution_count": 118,
   "metadata": {},
   "outputs": [],
   "source": [
    "fast_job = []\n",
    "acc_job  = []\n",
    "\n",
    "for job in jobs:\n",
    "    if fast in job :\n",
    "        fast_job.append(job)\n",
    "    elif acc in job:\n",
    "        acc_job.append(job)"
   ]
  },
  {
   "cell_type": "code",
   "execution_count": 121,
   "metadata": {},
   "outputs": [
    {
     "name": "stdout",
     "output_type": "stream",
     "text": [
      "25 25\n"
     ]
    }
   ],
   "source": [
    "print(len(acc_job), len(fast_job))"
   ]
  },
  {
   "cell_type": "code",
   "execution_count": 131,
   "metadata": {},
   "outputs": [],
   "source": [
    "agg_fast = agg_logs(fast_job)\n",
    "agg_acc  = agg_logs(acc_job)"
   ]
  },
  {
   "cell_type": "code",
   "execution_count": 138,
   "metadata": {},
   "outputs": [
    {
     "data": {
      "text/html": [
       "<div>\n",
       "<style scoped>\n",
       "    .dataframe tbody tr th:only-of-type {\n",
       "        vertical-align: middle;\n",
       "    }\n",
       "\n",
       "    .dataframe tbody tr th {\n",
       "        vertical-align: top;\n",
       "    }\n",
       "\n",
       "    .dataframe thead th {\n",
       "        text-align: right;\n",
       "    }\n",
       "</style>\n",
       "<table border=\"1\" class=\"dataframe\">\n",
       "  <thead>\n",
       "    <tr style=\"text-align: right;\">\n",
       "      <th></th>\n",
       "      <th>time</th>\n",
       "    </tr>\n",
       "    <tr>\n",
       "      <th>module</th>\n",
       "      <th></th>\n",
       "    </tr>\n",
       "  </thead>\n",
       "  <tbody>\n",
       "    <tr>\n",
       "      <th>get_and_group_text</th>\n",
       "      <td>9.228232</td>\n",
       "    </tr>\n",
       "    <tr>\n",
       "      <th>get_layout_predictions</th>\n",
       "      <td>5.537911</td>\n",
       "    </tr>\n",
       "    <tr>\n",
       "      <th>get_text</th>\n",
       "      <td>9.172250</td>\n",
       "    </tr>\n",
       "    <tr>\n",
       "      <th>invoice_to_json</th>\n",
       "      <td>34.319040</td>\n",
       "    </tr>\n",
       "    <tr>\n",
       "      <th>merge_across_pages</th>\n",
       "      <td>0.003960</td>\n",
       "    </tr>\n",
       "    <tr>\n",
       "      <th>partition_regions</th>\n",
       "      <td>0.000000</td>\n",
       "    </tr>\n",
       "    <tr>\n",
       "      <th>pdf_to_image</th>\n",
       "      <td>0.784040</td>\n",
       "    </tr>\n",
       "    <tr>\n",
       "      <th>transform_to_target</th>\n",
       "      <td>0.000240</td>\n",
       "    </tr>\n",
       "    <tr>\n",
       "      <th>validate_keys</th>\n",
       "      <td>0.000000</td>\n",
       "    </tr>\n",
       "  </tbody>\n",
       "</table>\n",
       "</div>"
      ],
      "text/plain": [
       "                              time\n",
       "module                            \n",
       " get_and_group_text       9.228232\n",
       " get_layout_predictions   5.537911\n",
       " get_text                 9.172250\n",
       " invoice_to_json         34.319040\n",
       " merge_across_pages       0.003960\n",
       " partition_regions        0.000000\n",
       " pdf_to_image             0.784040\n",
       " transform_to_target      0.000240\n",
       " validate_keys            0.000000"
      ]
     },
     "execution_count": 138,
     "metadata": {},
     "output_type": "execute_result"
    }
   ],
   "source": [
    "pd.DataFrame(agg_fast).groupby(by=\"module\").mean()"
   ]
  },
  {
   "cell_type": "code",
   "execution_count": 139,
   "metadata": {},
   "outputs": [
    {
     "data": {
      "text/html": [
       "<div>\n",
       "<style scoped>\n",
       "    .dataframe tbody tr th:only-of-type {\n",
       "        vertical-align: middle;\n",
       "    }\n",
       "\n",
       "    .dataframe tbody tr th {\n",
       "        vertical-align: top;\n",
       "    }\n",
       "\n",
       "    .dataframe thead th {\n",
       "        text-align: right;\n",
       "    }\n",
       "</style>\n",
       "<table border=\"1\" class=\"dataframe\">\n",
       "  <thead>\n",
       "    <tr style=\"text-align: right;\">\n",
       "      <th></th>\n",
       "      <th>time</th>\n",
       "    </tr>\n",
       "    <tr>\n",
       "      <th>module</th>\n",
       "      <th></th>\n",
       "    </tr>\n",
       "  </thead>\n",
       "  <tbody>\n",
       "    <tr>\n",
       "      <th>get_and_group_text</th>\n",
       "      <td>9.378857</td>\n",
       "    </tr>\n",
       "    <tr>\n",
       "      <th>get_layout_predictions</th>\n",
       "      <td>5.530518</td>\n",
       "    </tr>\n",
       "    <tr>\n",
       "      <th>get_text</th>\n",
       "      <td>9.327089</td>\n",
       "    </tr>\n",
       "    <tr>\n",
       "      <th>invoice_to_json</th>\n",
       "      <td>34.634000</td>\n",
       "    </tr>\n",
       "    <tr>\n",
       "      <th>merge_across_pages</th>\n",
       "      <td>0.002760</td>\n",
       "    </tr>\n",
       "    <tr>\n",
       "      <th>partition_regions</th>\n",
       "      <td>0.000720</td>\n",
       "    </tr>\n",
       "    <tr>\n",
       "      <th>pdf_to_image</th>\n",
       "      <td>0.801800</td>\n",
       "    </tr>\n",
       "    <tr>\n",
       "      <th>transform_to_target</th>\n",
       "      <td>0.000000</td>\n",
       "    </tr>\n",
       "    <tr>\n",
       "      <th>validate_keys</th>\n",
       "      <td>0.000000</td>\n",
       "    </tr>\n",
       "  </tbody>\n",
       "</table>\n",
       "</div>"
      ],
      "text/plain": [
       "                              time\n",
       "module                            \n",
       " get_and_group_text       9.378857\n",
       " get_layout_predictions   5.530518\n",
       " get_text                 9.327089\n",
       " invoice_to_json         34.634000\n",
       " merge_across_pages       0.002760\n",
       " partition_regions        0.000720\n",
       " pdf_to_image             0.801800\n",
       " transform_to_target      0.000000\n",
       " validate_keys            0.000000"
      ]
     },
     "execution_count": 139,
     "metadata": {},
     "output_type": "execute_result"
    }
   ],
   "source": [
    "pd.DataFrame(agg_acc).groupby(by=\"module\").mean()"
   ]
  },
  {
   "cell_type": "code",
   "execution_count": null,
   "metadata": {},
   "outputs": [],
   "source": []
  },
  {
   "cell_type": "code",
   "execution_count": 101,
   "metadata": {},
   "outputs": [],
   "source": [
    "\n"
   ]
  },
  {
   "cell_type": "code",
   "execution_count": 102,
   "metadata": {},
   "outputs": [],
   "source": []
  },
  {
   "cell_type": "code",
   "execution_count": 105,
   "metadata": {},
   "outputs": [
    {
     "name": "stdout",
     "output_type": "stream",
     "text": [
      "200110\n",
      "2022-01-12 06:09:30 : For page 2 Time taken for  : get_text is 23.05 \n",
      "2022-01-12 06:09:30 : For page\n"
     ]
    }
   ],
   "source": [
    "print(len(all_logs))\n",
    "print(all_logs[:100])\n"
   ]
  },
  {
   "cell_type": "code",
   "execution_count": 106,
   "metadata": {},
   "outputs": [],
   "source": []
  },
  {
   "cell_type": "code",
   "execution_count": 107,
   "metadata": {},
   "outputs": [
    {
     "data": {
      "text/plain": [
       "78"
      ]
     },
     "execution_count": 107,
     "metadata": {},
     "output_type": "execute_result"
    }
   ],
   "source": [
    "len(jobs)"
   ]
  },
  {
   "cell_type": "code",
   "execution_count": 108,
   "metadata": {},
   "outputs": [
    {
     "data": {
      "text/plain": [
       "['2022-01-12 06:09:31 : Started : process_request ',\n",
       " '2022-01-12 06:10:36 : Started : save_response_to_disk ',\n",
       " '2022-01-12 06:10:36 : Started : invoice_to_json ',\n",
       " \"2022-01-12 06:10:36 : Request : {'invoice': 'faktura-30137567217.pdf', 'supplierId': 'SkellefteaKraft', 'jobId': '78388418-9459-4aae-81c0-4d7b49d4a7fc'} \",\n",
       " '2022-01-12 06:10:36 : Started : get_supplier ',\n",
       " '2022-01-12 06:10:36 : Started : pdf_to_image ',\n",
       " '2022-01-12 06:10:36 : Time taken for  : pdf_to_image is 0.741 ',\n",
       " '2022-01-12 06:10:36 : This invoice has 2 pages ',\n",
       " '2022-01-12 06:10:36 : For page 1 Started : get_layout_predictions ',\n",
       " '2022-01-12 06:10:42 : For page 1 Time taken for  : get_layout_predictions is 5.369 ']"
      ]
     },
     "execution_count": 108,
     "metadata": {},
     "output_type": "execute_result"
    }
   ],
   "source": [
    "logs = jobs[1].split('\\n')\n",
    "logs[:10]\n"
   ]
  },
  {
   "cell_type": "code",
   "execution_count": 109,
   "metadata": {},
   "outputs": [
    {
     "data": {
      "text/plain": [
       "[]"
      ]
     },
     "execution_count": 109,
     "metadata": {},
     "output_type": "execute_result"
    }
   ],
   "source": [
    "get_request =   r'.*Resource invoice-to-josn started for.*'\n",
    "find_pattern(logs,get_request)"
   ]
  },
  {
   "cell_type": "code",
   "execution_count": 110,
   "metadata": {},
   "outputs": [
    {
     "data": {
      "text/plain": [
       "['2022-01-12 06:10:36 : This invoice has 2 pages ']"
      ]
     },
     "execution_count": 110,
     "metadata": {},
     "output_type": "execute_result"
    }
   ],
   "source": [
    "find_page_count=   r'.*This invoice has.*pages.*'\n",
    "find_pattern(logs,find_page_count)"
   ]
  },
  {
   "cell_type": "code",
   "execution_count": 111,
   "metadata": {},
   "outputs": [],
   "source": [
    "find_time = r'.*Time taken for.*'\n",
    "\n",
    "rows = []\n",
    "for module_log in find_pattern(logs,find_time) :\n",
    "    module_name = module_log.split(':')[-1].split(' is ')[0]\n",
    "    module_time = module_log.split(':')[-1].split(' is ')[-1]\n",
    "    rows.append({'module': module_name, 'time': float(module_time)})"
   ]
  },
  {
   "cell_type": "code",
   "execution_count": 112,
   "metadata": {},
   "outputs": [
    {
     "data": {
      "text/plain": [
       "[{'module': ' pdf_to_image', 'time': 0.741},\n",
       " {'module': ' get_layout_predictions', 'time': 5.369},\n",
       " {'module': ' get_text', 'time': 6.637},\n",
       " {'module': ' get_and_group_text', 'time': 6.638},\n",
       " {'module': ' get_layout_predictions', 'time': 5.658},\n",
       " {'module': ' get_text', 'time': 11.621},\n",
       " {'module': ' get_and_group_text', 'time': 11.707},\n",
       " {'module': ' partition_regions', 'time': 0.0},\n",
       " {'module': ' merge_across_pages', 'time': 0.007},\n",
       " {'module': ' transform_to_target', 'time': 0.0},\n",
       " {'module': ' validate_keys', 'time': 0.0},\n",
       " {'module': ' invoice_to_json', 'time': 30.515}]"
      ]
     },
     "execution_count": 112,
     "metadata": {},
     "output_type": "execute_result"
    }
   ],
   "source": [
    "rows"
   ]
  },
  {
   "cell_type": "code",
   "execution_count": 113,
   "metadata": {},
   "outputs": [],
   "source": [
    "time_df = pd.DataFrame(rows)"
   ]
  },
  {
   "cell_type": "code",
   "execution_count": 114,
   "metadata": {},
   "outputs": [
    {
     "data": {
      "text/html": [
       "<div>\n",
       "<style scoped>\n",
       "    .dataframe tbody tr th:only-of-type {\n",
       "        vertical-align: middle;\n",
       "    }\n",
       "\n",
       "    .dataframe tbody tr th {\n",
       "        vertical-align: top;\n",
       "    }\n",
       "\n",
       "    .dataframe thead th {\n",
       "        text-align: right;\n",
       "    }\n",
       "</style>\n",
       "<table border=\"1\" class=\"dataframe\">\n",
       "  <thead>\n",
       "    <tr style=\"text-align: right;\">\n",
       "      <th></th>\n",
       "      <th>module</th>\n",
       "      <th>time</th>\n",
       "    </tr>\n",
       "  </thead>\n",
       "  <tbody>\n",
       "    <tr>\n",
       "      <th>0</th>\n",
       "      <td>pdf_to_image</td>\n",
       "      <td>0.741</td>\n",
       "    </tr>\n",
       "    <tr>\n",
       "      <th>1</th>\n",
       "      <td>get_layout_predictions</td>\n",
       "      <td>5.369</td>\n",
       "    </tr>\n",
       "    <tr>\n",
       "      <th>2</th>\n",
       "      <td>get_text</td>\n",
       "      <td>6.637</td>\n",
       "    </tr>\n",
       "    <tr>\n",
       "      <th>3</th>\n",
       "      <td>get_and_group_text</td>\n",
       "      <td>6.638</td>\n",
       "    </tr>\n",
       "    <tr>\n",
       "      <th>4</th>\n",
       "      <td>get_layout_predictions</td>\n",
       "      <td>5.658</td>\n",
       "    </tr>\n",
       "    <tr>\n",
       "      <th>5</th>\n",
       "      <td>get_text</td>\n",
       "      <td>11.621</td>\n",
       "    </tr>\n",
       "    <tr>\n",
       "      <th>6</th>\n",
       "      <td>get_and_group_text</td>\n",
       "      <td>11.707</td>\n",
       "    </tr>\n",
       "    <tr>\n",
       "      <th>7</th>\n",
       "      <td>partition_regions</td>\n",
       "      <td>0.000</td>\n",
       "    </tr>\n",
       "    <tr>\n",
       "      <th>8</th>\n",
       "      <td>merge_across_pages</td>\n",
       "      <td>0.007</td>\n",
       "    </tr>\n",
       "    <tr>\n",
       "      <th>9</th>\n",
       "      <td>transform_to_target</td>\n",
       "      <td>0.000</td>\n",
       "    </tr>\n",
       "    <tr>\n",
       "      <th>10</th>\n",
       "      <td>validate_keys</td>\n",
       "      <td>0.000</td>\n",
       "    </tr>\n",
       "    <tr>\n",
       "      <th>11</th>\n",
       "      <td>invoice_to_json</td>\n",
       "      <td>30.515</td>\n",
       "    </tr>\n",
       "  </tbody>\n",
       "</table>\n",
       "</div>"
      ],
      "text/plain": [
       "                     module    time\n",
       "0              pdf_to_image   0.741\n",
       "1    get_layout_predictions   5.369\n",
       "2                  get_text   6.637\n",
       "3        get_and_group_text   6.638\n",
       "4    get_layout_predictions   5.658\n",
       "5                  get_text  11.621\n",
       "6        get_and_group_text  11.707\n",
       "7         partition_regions   0.000\n",
       "8        merge_across_pages   0.007\n",
       "9       transform_to_target   0.000\n",
       "10            validate_keys   0.000\n",
       "11          invoice_to_json  30.515"
      ]
     },
     "execution_count": 114,
     "metadata": {},
     "output_type": "execute_result"
    }
   ],
   "source": [
    "time_df"
   ]
  },
  {
   "cell_type": "code",
   "execution_count": 115,
   "metadata": {},
   "outputs": [],
   "source": []
  },
  {
   "cell_type": "code",
   "execution_count": null,
   "metadata": {},
   "outputs": [],
   "source": []
  }
 ],
 "metadata": {
  "interpreter": {
   "hash": "22a641ff922a84ae8b189e4af5079ae0107f70765ba18e1eb321daf94954cd6b"
  },
  "kernelspec": {
   "display_name": "Python 3.8.10 64-bit ('prima': venv)",
   "language": "python",
   "name": "python3"
  },
  "language_info": {
   "codemirror_mode": {
    "name": "ipython",
    "version": 3
   },
   "file_extension": ".py",
   "mimetype": "text/x-python",
   "name": "python",
   "nbconvert_exporter": "python",
   "pygments_lexer": "ipython3",
   "version": "3.8.10"
  },
  "orig_nbformat": 4
 },
 "nbformat": 4,
 "nbformat_minor": 2
}
